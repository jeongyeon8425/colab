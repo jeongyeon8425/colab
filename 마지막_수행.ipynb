{
  "nbformat": 4,
  "nbformat_minor": 0,
  "metadata": {
    "colab": {
      "provenance": [],
      "authorship_tag": "ABX9TyOqzV+EBCjS/maKA2wQ6nQc",
      "include_colab_link": true
    },
    "kernelspec": {
      "name": "python3",
      "display_name": "Python 3"
    },
    "language_info": {
      "name": "python"
    }
  },
  "cells": [
    {
      "cell_type": "markdown",
      "metadata": {
        "id": "view-in-github",
        "colab_type": "text"
      },
      "source": [
        "<a href=\"https://colab.research.google.com/github/jeongyeon8425/colab/blob/main/%EB%A7%88%EC%A7%80%EB%A7%89_%EC%88%98%ED%96%89.ipynb\" target=\"_parent\"><img src=\"https://colab.research.google.com/assets/colab-badge.svg\" alt=\"Open In Colab\"/></a>"
      ]
    },
    {
      "cell_type": "code",
      "execution_count": 1,
      "metadata": {
        "colab": {
          "base_uri": "https://localhost:8080/"
        },
        "id": "Cux7OfQqTxnM",
        "outputId": "6dd45b30-a79d-4657-abb7-c976c48a72c1"
      },
      "outputs": [
        {
          "output_type": "stream",
          "name": "stdout",
          "text": [
            "2 X 1 = 2\n",
            "2 X 2 = 4\n",
            "2 X 3 = 6\n",
            "2 X 4 = 8\n",
            "2 X 5 = 10\n",
            "2 X 6 = 12\n",
            "2 X 7 = 14\n",
            "2 X 8 = 16\n",
            "2 X 9 = 18\n",
            "\n",
            "3 X 1 = 3\n",
            "3 X 2 = 6\n",
            "3 X 3 = 9\n",
            "3 X 4 = 12\n",
            "3 X 5 = 15\n",
            "3 X 6 = 18\n",
            "3 X 7 = 21\n",
            "3 X 8 = 24\n",
            "3 X 9 = 27\n",
            "\n",
            "4 X 1 = 4\n",
            "4 X 2 = 8\n",
            "4 X 3 = 12\n",
            "4 X 4 = 16\n",
            "4 X 5 = 20\n",
            "4 X 6 = 24\n",
            "4 X 7 = 28\n",
            "4 X 8 = 32\n",
            "4 X 9 = 36\n",
            "\n",
            "5 X 1 = 5\n",
            "5 X 2 = 10\n",
            "5 X 3 = 15\n",
            "5 X 4 = 20\n",
            "5 X 5 = 25\n",
            "5 X 6 = 30\n",
            "5 X 7 = 35\n",
            "5 X 8 = 40\n",
            "5 X 9 = 45\n",
            "\n",
            "6 X 1 = 6\n",
            "6 X 2 = 12\n",
            "6 X 3 = 18\n",
            "6 X 4 = 24\n",
            "6 X 5 = 30\n",
            "6 X 6 = 36\n",
            "6 X 7 = 42\n",
            "6 X 8 = 48\n",
            "6 X 9 = 54\n",
            "\n",
            "7 X 1 = 7\n",
            "7 X 2 = 14\n",
            "7 X 3 = 21\n",
            "7 X 4 = 28\n",
            "7 X 5 = 35\n",
            "7 X 6 = 42\n",
            "7 X 7 = 49\n",
            "7 X 8 = 56\n",
            "7 X 9 = 63\n",
            "\n",
            "8 X 1 = 8\n",
            "8 X 2 = 16\n",
            "8 X 3 = 24\n",
            "8 X 4 = 32\n",
            "8 X 5 = 40\n",
            "8 X 6 = 48\n",
            "8 X 7 = 56\n",
            "8 X 8 = 64\n",
            "8 X 9 = 72\n",
            "\n",
            "9 X 1 = 9\n",
            "9 X 2 = 18\n",
            "9 X 3 = 27\n",
            "9 X 4 = 36\n",
            "9 X 5 = 45\n",
            "9 X 6 = 54\n",
            "9 X 7 = 63\n",
            "9 X 8 = 72\n",
            "9 X 9 = 81\n",
            "\n"
          ]
        }
      ],
      "source": [
        "i = 0\n",
        "j = 0\n",
        "\n",
        "for i in range(2,10) :\n",
        "  for j in range(1, 10) :\n",
        "    print(i, \"X\", j, \"=\", i * j)\n",
        "  print(\"\")"
      ]
    },
    {
      "cell_type": "code",
      "source": [
        "i, hap = 0, 0\n",
        "for i in range(1,101,1) :\n",
        "  if i % 4 == 0 :\n",
        "    continue\n",
        "  hap += i\n",
        "print(\"1~100의 합계(4의 배수 제외) : \", hap)"
      ],
      "metadata": {
        "colab": {
          "base_uri": "https://localhost:8080/"
        },
        "id": "aRzAob1FVc8c",
        "outputId": "c5e812a5-370e-4538-9b8f-e5e64c79312a"
      },
      "execution_count": 7,
      "outputs": [
        {
          "output_type": "stream",
          "name": "stdout",
          "text": [
            "1~100의 합계(4의 배수 제외) :  3750\n"
          ]
        }
      ]
    },
    {
      "cell_type": "code",
      "source": [
        "import random\n",
        "count = 0\n",
        "while True :\n",
        "  r1 = random.randint(1,6)\n",
        "  r2 = random.randint(1,6)\n",
        "  r3 = random.randint(1,6)\n",
        "  count = count + 1\n",
        "  if r1 == r2 == r3 : break \n",
        "print(\"3개의 주사위는 모두\", r1, \"나왔다.\")\n",
        "print(\"같은 숫자가 나오기까지\", count, \"번 던졌습니다.\")"
      ],
      "metadata": {
        "colab": {
          "base_uri": "https://localhost:8080/"
        },
        "id": "G6z45BYQViQc",
        "outputId": "7cb3e09d-68be-4648-c09b-e875ce817f18"
      },
      "execution_count": 5,
      "outputs": [
        {
          "output_type": "stream",
          "name": "stdout",
          "text": [
            "3개의 주사위는 모두 4 나왔다.\n",
            "같은 숫자가 나오기까지 20 번 던졌습니다.\n"
          ]
        }
      ]
    },
    {
      "cell_type": "code",
      "source": [
        "import random\n",
        "\n",
        "computer, user = 0,0\n",
        "\n",
        "for i in range(1,11) :\n",
        "  couputer = random.randint(1, 5)\n",
        "  print(\"게임\", i, \"회\", end='')\n",
        "  user = int(input(\"컴퓨터가 생각한 숫자는 ? \"))\n",
        "\n",
        "  if computer == user :\n",
        "    print(\"맞혔네요. 축하합니다~!!\")\n",
        "    break\n",
        "  else :\n",
        "    print(\"으앙 아까워요\", computer, \"였는데요ㅠ 다시 해보세요!\")\n",
        "    continue\n",
        "print(\"게임을 마칩니다\")"
      ],
      "metadata": {
        "colab": {
          "base_uri": "https://localhost:8080/"
        },
        "id": "kLO7qxk_XZi1",
        "outputId": "73a3d8b4-9b4e-4719-c6ad-44ba2093a2cf"
      },
      "execution_count": 9,
      "outputs": [
        {
          "output_type": "stream",
          "name": "stdout",
          "text": [
            "게임 1 회컴퓨터가 생각한 숫자는 ? 3\n",
            "으앙 아까워요 0 였는데요ㅠ 다시 해보세요!\n",
            "게임 2 회컴퓨터가 생각한 숫자는 ? 2\n",
            "으앙 아까워요 0 였는데요ㅠ 다시 해보세요!\n",
            "게임 3 회컴퓨터가 생각한 숫자는 ? 0\n",
            "맞혔네요. 축하합니다~!!\n",
            "게임을 마칩니다\n"
          ]
        }
      ]
    }
  ]
}