{
  "nbformat": 4,
  "nbformat_minor": 0,
  "metadata": {
    "colab": {
      "provenance": [],
      "authorship_tag": "ABX9TyO677Dlry6/1U7pZR7PdguC",
      "include_colab_link": true
    },
    "kernelspec": {
      "name": "python3",
      "display_name": "Python 3"
    },
    "language_info": {
      "name": "python"
    }
  },
  "cells": [
    {
      "cell_type": "markdown",
      "metadata": {
        "id": "view-in-github",
        "colab_type": "text"
      },
      "source": [
        "<a href=\"https://colab.research.google.com/github/jeongyeon8425/colab/blob/main/%EC%84%B8%EB%B2%88%EC%A7%B8_%EC%88%98%ED%96%89.ipynb\" target=\"_parent\"><img src=\"https://colab.research.google.com/assets/colab-badge.svg\" alt=\"Open In Colab\"/></a>"
      ]
    },
    {
      "cell_type": "code",
      "execution_count": 4,
      "metadata": {
        "colab": {
          "base_uri": "https://localhost:8080/"
        },
        "id": "K8Si4qtn_Noq",
        "outputId": "a1590917-5fe5-4393-ffba-bd5503195745"
      },
      "outputs": [
        {
          "output_type": "stream",
          "name": "stdout",
          "text": [
            "정수를 입력 : 1773\n",
            "1773 홀수입니다.\n"
          ]
        }
      ],
      "source": [
        "num = int(input(\"정수를 입력 : \"))\n",
        "\n",
        "if (num % 2) == 0 :\n",
        "  print(num, \"짝수입니다.\")\n",
        "\n",
        "if (num % 2) == 1 :\n",
        "  print(num, \"홀수입니다.\")"
      ]
    },
    {
      "cell_type": "code",
      "source": [
        "num = int(input(\"숫자를 입력==>\"))\n",
        "\n",
        "if num > 100 :\n",
        "  if num < 1000 :\n",
        "    print(\"100 보다 크고 1000보다 작군요.\")\n",
        "  else : \n",
        "    pint(\"와~1000보다 크군요.\")\n",
        "else :\n",
        "  print(\"음~100보다 작군요.\")"
      ],
      "metadata": {
        "colab": {
          "base_uri": "https://localhost:8080/"
        },
        "id": "QFEK3_WwCeIm",
        "outputId": "13394bed-5641-482a-c361-83306d8209fc"
      },
      "execution_count": 7,
      "outputs": [
        {
          "output_type": "stream",
          "name": "stdout",
          "text": [
            "숫자를 입력==>150\n",
            "100 보다 크고 1000보다 작군요.\n"
          ]
        }
      ]
    },
    {
      "cell_type": "code",
      "source": [
        "score = int(input(\"점수를 입력 ==> \"))\n",
        "\n",
        "if score >= 90 :\n",
        "  print(\"A\", end='')\n",
        "else :\n",
        "  if score >= 80 :\n",
        "    print(\"B\", end='')\n",
        "  else :\n",
        "    if score >= 70 :\n",
        "      print(\"C\", end='')\n",
        "    else :\n",
        "      if score >= 60 :\n",
        "        print(\"D\", end='')\n",
        "      else :\n",
        "        print(\"F\", end='')\n",
        "print(\"학점입니다.\")"
      ],
      "metadata": {
        "colab": {
          "base_uri": "https://localhost:8080/"
        },
        "id": "D-x8HkIiDQSL",
        "outputId": "82bc54ed-b999-4c03-deff-a9fad5ca0595"
      },
      "execution_count": 9,
      "outputs": [
        {
          "output_type": "stream",
          "name": "stdout",
          "text": [
            "점수를 입력 ==> 77\n",
            "C학점입니다.\n"
          ]
        }
      ]
    }
  ]
}