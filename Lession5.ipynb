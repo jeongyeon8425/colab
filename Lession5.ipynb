{
  "cells": [
    {
      "cell_type": "markdown",
      "metadata": {
        "id": "view-in-github",
        "colab_type": "text"
      },
      "source": [
        "<a href=\"https://colab.research.google.com/github/jeongyeon8425/colab/blob/main/Lession5.ipynb\" target=\"_parent\"><img src=\"https://colab.research.google.com/assets/colab-badge.svg\" alt=\"Open In Colab\"/></a>"
      ]
    },
    {
      "cell_type": "markdown",
      "metadata": {
        "id": "SqaOj2OAR1ly"
      },
      "source": [
        "홀수 짝수 구하기"
      ]
    },
    {
      "cell_type": "code",
      "execution_count": null,
      "metadata": {
        "colab": {
          "base_uri": "https://localhost:8080/"
        },
        "id": "twhlcpIBQ4e8",
        "outputId": "bdb6d728-d0dd-4a81-f5d3-4f6838dee414"
      },
      "outputs": [
        {
          "name": "stdout",
          "output_type": "stream",
          "text": [
            "정수를 입력 : 2\n",
            "2 짝수입니다.\n"
          ]
        }
      ],
      "source": [
        "num = int(input(\"정수를 입력 : \"))\n",
        "\n",
        "if (num % 2) == 0 :\n",
        "  print(num, \"짝수입니다.\")\n",
        "\n",
        "if (num % 2) == 1 :\n",
        "  print(num, \"홀수입니다.\")"
      ]
    },
    {
      "cell_type": "code",
      "execution_count": null,
      "metadata": {
        "colab": {
          "base_uri": "https://localhost:8080/"
        },
        "id": "hwfdgkRkS1m0",
        "outputId": "f4a3d9f1-4dfc-48ed-ab9a-374e1643b65b"
      },
      "outputs": [
        {
          "name": "stdout",
          "output_type": "stream",
          "text": [
            "정수를 입력 : 3\n",
            "3 홀수입니다.\n"
          ]
        }
      ],
      "source": [
        "num = int(input(\"정수를 입력 : \"))\n",
        "if (num % 2) == 0 :\n",
        "  print(num, \"짝수입니다.\")\n",
        "else :\n",
        "  print(num, \"홀수입니다.\")"
      ]
    },
    {
      "cell_type": "markdown",
      "metadata": {
        "id": "2LeJPs1qUHa7"
      },
      "source": [
        "랜덤 함수\n",
        "import random"
      ]
    },
    {
      "cell_type": "code",
      "execution_count": null,
      "metadata": {
        "colab": {
          "base_uri": "https://localhost:8080/"
        },
        "id": "aO64wN-QWreF",
        "outputId": "4fe37c22-f855-474f-887e-e1410df7c814"
      },
      "outputs": [
        {
          "name": "stdout",
          "output_type": "stream",
          "text": [
            "** 컴퓨터가 생각한 숫자를 맞추는 게임 **\n",
            "숫자는 1부터 45까지입니다!\n",
            "숫자를 입력 : 34\n",
            "입력한 숫자가 더 큽니다!\n",
            "숫자를 입력 : 23\n",
            "입력한 숫자가 더 큽니다!\n",
            "숫자를 입력 : 12\n",
            "입력한 숫자가 더 큽니다!\n",
            "숫자를 입력 : 7\n",
            "입력한 숫자가 더 큽니다!\n",
            "숫자를 입력 : 5\n",
            "입력한 숫자가 더 큽니다!\n",
            "숫자를 입력 : 3\n",
            "입력한 숫자가 작습니다ㅜㅡㅜ\n",
            "숫자를 입력 : 4\n",
            "정답^_^\n"
          ]
        }
      ],
      "source": [
        "import random\n",
        "\n",
        "com_number = random.randint(1, 45)\n",
        "print(\"** 컴퓨터가 생각한 숫자를 맞추는 게임 **\")\n",
        "print(\"숫자는 1부터 45까지입니다!\")\n",
        "while com_number != user_number :\n",
        "  user_number = int(input(\"숫자를 입력 : \"))\n",
        "  if com_number > user_number :\n",
        "    print(\"입력한 숫자가 작습니다ㅜㅡㅜ\")\n",
        "  elif com_number < user_number :\n",
        "    pri\n",
        "    nt(\"입력한 숫자가 더 큽니다!\")\n",
        "  else :\n",
        "    print(\"정답^_^\")"
      ]
    },
    {
      "cell_type": "markdown",
      "metadata": {
        "id": "sk_DR32vYFHE"
      },
      "source": [
        "가위바위보 게임"
      ]
    },
    {
      "cell_type": "code",
      "execution_count": null,
      "metadata": {
        "colab": {
          "background_save": true,
          "base_uri": "https://localhost:8080/"
        },
        "id": "973Hld8wYGw7",
        "outputId": "dfe9f022-2a24-449a-e206-bb78529b7b3f"
      },
      "outputs": [
        {
          "name": "stdout",
          "output_type": "stream",
          "text": [
            "** 가위 바위 보 게임 **\n",
            "졌다..ㅜㅡㅜ\n",
            "이겼당~!\n"
          ]
        }
      ],
      "source": [
        "import random\n",
        "print(\"** 가위 바위 보 게임 **\")\n",
        "count = 7\n",
        "while count > 0 :\n",
        "  com_player = random.choice([\"가위\", \"바위\", \"보\"])\n",
        "  user_player = input(\"가위/바위/보 중 하나를 입력하세요 ==> \")\n",
        "  if (com_player == user_player) :\n",
        "    print(\"비겼따!\")\n",
        "  elif ((com_player == \"가위\") and (user_player == \"바위\")) or \\\n",
        "    ((com_player ==  \"바위\") and (user_player == \"보\")) or \\\n",
        "    ((com_player == \"보\") and (user_player == \"가위\")) :\n",
        "    print(\"이겼당~!\")\n",
        "  else :\n",
        "    print(\"졌다..ㅜㅡㅜ\")\n",
        "  count = count - 1"
      ]
    },
    {
      "cell_type": "markdown",
      "source": [
        "5장 형성평가"
      ],
      "metadata": {
        "id": "wTckzk09Mo7T"
      }
    },
    {
      "cell_type": "code",
      "source": [
        "num = int(input(\"숫자를 입력 ==> \"))\n",
        "\n",
        "if num > 100 :\n",
        "  if num < 1000 :\n",
        "    print(\"100보다 크고 1000보다 작군요.\")\n",
        "  else :\n",
        "    print(\"와~ 1000보다 크군요.\")\n",
        "else :\n",
        "  print(\"음~ 100보다 작군요.\")"
      ],
      "metadata": {
        "colab": {
          "base_uri": "https://localhost:8080/"
        },
        "id": "zXOv5KogMqaS",
        "outputId": "1cfe62f5-590c-4894-e1a2-7a2c9dd522e8"
      },
      "execution_count": 1,
      "outputs": [
        {
          "output_type": "stream",
          "name": "stdout",
          "text": [
            "숫자를 입력 ==> 33\n",
            "음~ 100보다 작군요.\n"
          ]
        }
      ]
    },
    {
      "cell_type": "code",
      "source": [
        "score = int(input(\"점수를 입력 ==> \"))\n",
        "\n",
        "if score >= 90 :\n",
        "  print(\"A\", end='')\n",
        "else :\n",
        "  if score >= 80 :\n",
        "    print(\"B\", end='')\n",
        "  else :\n",
        "    if score >= 70 :\n",
        "      print(\"C\", end='')\n",
        "    else :\n",
        "      if score >= 60 :\n",
        "        print(\"D\", end='')\n",
        "      else :\n",
        "        print(\"F\", end='')\n",
        "print(\"학점입니다.\")"
      ],
      "metadata": {
        "colab": {
          "base_uri": "https://localhost:8080/"
        },
        "id": "T8VQ2Ca4NlpB",
        "outputId": "c6584320-0388-41cc-cd1a-5f9ab5a9b99b"
      },
      "execution_count": 2,
      "outputs": [
        {
          "output_type": "stream",
          "name": "stdout",
          "text": [
            "점수를 입력 ==> 97\n",
            "A학점입니다.\n"
          ]
        }
      ]
    },
    {
      "cell_type": "code",
      "source": [
        "score = int(input(\"점수를 입력 ==> \"))\n",
        "\n",
        "if score >= 90 :\n",
        "    print(\"A\", end='')\n",
        "elif score >= 80 :\n",
        "    print(\"B\", end='')\n",
        "elif score >= 70 :\n",
        "    print(\"C\", end='')\n",
        "elif score >= 60 :\n",
        "    print(\"D\", end='')\n",
        "else :\n",
        "    print(\"F\", end='')\n",
        "    print(\"학점입니다.\")"
      ],
      "metadata": {
        "colab": {
          "base_uri": "https://localhost:8080/"
        },
        "id": "30ioH-h1PeKS",
        "outputId": "827817c2-4d8f-4196-a6bd-ee28e6092a6f"
      },
      "execution_count": 4,
      "outputs": [
        {
          "output_type": "stream",
          "name": "stdout",
          "text": [
            "점수를 입력 ==> 34\n",
            "F학점입니다.\n"
          ]
        }
      ]
    },
    {
      "cell_type": "markdown",
      "source": [
        "pc방 나이 제한 검사하기"
      ],
      "metadata": {
        "id": "ugmMSnR-RU3z"
      }
    },
    {
      "cell_type": "code",
      "source": [
        "age = int(input(\"나이를 입력 : \"))\n",
        "\n",
        "if age >= 18 :\n",
        "  print(\"즐거운 시간 되세용~~^^\")\n",
        "else : \n",
        "  print(\"집에 갈 시간이네요ㅠ!ㅠ\")\n",
        "\n",
        "print(\"협조 ㄳ티비\")"
      ],
      "metadata": {
        "colab": {
          "base_uri": "https://localhost:8080/"
        },
        "id": "LEFfBRuURXvi",
        "outputId": "6fce5612-8ae2-4cf2-d0e2-7a0c9b9af4ee"
      },
      "execution_count": 5,
      "outputs": [
        {
          "output_type": "stream",
          "name": "stdout",
          "text": [
            "나이를 입력 : 18\n",
            "즐거운 시간 되세용~~^^\n",
            "협조 ㄳ티비\n"
          ]
        }
      ]
    },
    {
      "cell_type": "markdown",
      "source": [
        "가위바위보"
      ],
      "metadata": {
        "id": "UsxOIt7rhEfP"
      }
    },
    {
      "cell_type": "code",
      "source": [
        "import random\n",
        "myHand = input(\"나의 가위/바위/보 ==> \")\n",
        "comHand = random.choice([\"가위\", \"바위\", \"보\"])\n",
        "print(\"컴퓨터의 가위/바위/보 ==>\", comHand)\n",
        "\n",
        "if myHand == comHand :\n",
        "  print(\"비겼습니다. -.-\")\n",
        "\n",
        "elif (myHand == \"가위\" and comHand == \"보\") or \\\n",
        "     (myHand == \"바위\" and comHand == \"가위\") or \\\n",
        "     (myHand == \"보\" and comHand == \"바위\") :\n",
        "  print(\"이겼습니다. ^^\")\n",
        "else :\n",
        "  print(\"졌습니당 ㅜㅡㅜ\")"
      ],
      "metadata": {
        "colab": {
          "base_uri": "https://localhost:8080/",
          "height": 266
        },
        "id": "fX7BJqNShFgO",
        "outputId": "17016de9-a842-473a-ec98-200da9e15930"
      },
      "execution_count": 9,
      "outputs": [
        {
          "name": "stdout",
          "output_type": "stream",
          "text": [
            "나의 가위/바위/보 ==> 가위\n"
          ]
        },
        {
          "output_type": "error",
          "ename": "TypeError",
          "evalue": "ignored",
          "traceback": [
            "\u001b[0;31m---------------------------------------------------------------------------\u001b[0m",
            "\u001b[0;31mTypeError\u001b[0m                                 Traceback (most recent call last)",
            "\u001b[0;32m<ipython-input-9-82dfbbee67ee>\u001b[0m in \u001b[0;36m<module>\u001b[0;34m\u001b[0m\n\u001b[1;32m      2\u001b[0m \u001b[0mmyHand\u001b[0m \u001b[0;34m=\u001b[0m \u001b[0minput\u001b[0m\u001b[0;34m(\u001b[0m\u001b[0;34m\"나의 가위/바위/보 ==> \"\u001b[0m\u001b[0;34m)\u001b[0m\u001b[0;34m\u001b[0m\u001b[0;34m\u001b[0m\u001b[0m\n\u001b[1;32m      3\u001b[0m \u001b[0mcomHand\u001b[0m \u001b[0;34m=\u001b[0m \u001b[0mrandom\u001b[0m\u001b[0;34m.\u001b[0m\u001b[0mchoice\u001b[0m\u001b[0;34m(\u001b[0m\u001b[0;34m[\u001b[0m\u001b[0;34m\"가위\"\u001b[0m\u001b[0;34m,\u001b[0m \u001b[0;34m\"바위\"\u001b[0m\u001b[0;34m,\u001b[0m \u001b[0;34m\"보\"\u001b[0m\u001b[0;34m]\u001b[0m\u001b[0;34m)\u001b[0m\u001b[0;34m\u001b[0m\u001b[0;34m\u001b[0m\u001b[0m\n\u001b[0;32m----> 4\u001b[0;31m \u001b[0mprint\u001b[0m\u001b[0;34m(\u001b[0m\u001b[0;34m\"컴퓨터의 가위/바위/보 ==>\"\u001b[0m\u001b[0;34m,\u001b[0m \u001b[0mcomHand\u001b[0m\u001b[0;34m)\u001b[0m\u001b[0;34m\u001b[0m\u001b[0;34m\u001b[0m\u001b[0m\n\u001b[0m\u001b[1;32m      5\u001b[0m \u001b[0;34m\u001b[0m\u001b[0m\n\u001b[1;32m      6\u001b[0m \u001b[0;32mif\u001b[0m \u001b[0mmyHand\u001b[0m \u001b[0;34m==\u001b[0m \u001b[0mcomHand\u001b[0m \u001b[0;34m:\u001b[0m\u001b[0;34m\u001b[0m\u001b[0;34m\u001b[0m\u001b[0m\n",
            "\u001b[0;31mTypeError\u001b[0m: 'tuple' object is not callable"
          ]
        }
      ]
    }
  ],
  "metadata": {
    "colab": {
      "provenance": [],
      "authorship_tag": "ABX9TyMHCSE3SnqtLeXMXAM9a/9l",
      "include_colab_link": true
    },
    "kernelspec": {
      "display_name": "Python 3",
      "name": "python3"
    },
    "language_info": {
      "name": "python"
    }
  },
  "nbformat": 4,
  "nbformat_minor": 0
}