{
  "nbformat": 4,
  "nbformat_minor": 0,
  "metadata": {
    "colab": {
      "name": "3115-양정연(논술형).ipynb",
      "provenance": [],
      "collapsed_sections": [],
      "authorship_tag": "ABX9TyNxTbKJC4S7C1ehlVZt3vmV",
      "include_colab_link": true
    },
    "kernelspec": {
      "name": "python3",
      "display_name": "Python 3"
    },
    "language_info": {
      "name": "python"
    }
  },
  "cells": [
    {
      "cell_type": "markdown",
      "metadata": {
        "id": "view-in-github",
        "colab_type": "text"
      },
      "source": [
        "<a href=\"https://colab.research.google.com/github/jeongyeon8425/colab/blob/main/3115_%EC%96%91%EC%A0%95%EC%97%B0(%EB%85%BC%EC%88%A0%ED%98%95).ipynb\" target=\"_parent\"><img src=\"https://colab.research.google.com/assets/colab-badge.svg\" alt=\"Open In Colab\"/></a>"
      ]
    },
    {
      "cell_type": "markdown",
      "source": [
        "2022학년도 응용 프로그래밍 개발 - 논술형\n",
        "컴퓨터과 3학년 1반 15번 양정연"
      ],
      "metadata": {
        "id": "_gUUmIYZ6qdx"
      }
    },
    {
      "cell_type": "code",
      "execution_count": 9,
      "metadata": {
        "colab": {
          "base_uri": "https://localhost:8080/"
        },
        "id": "a6JoMD4I6nLT",
        "outputId": "f6ca59c3-8cdd-4c17-faa8-eaab08d878ff"
      },
      "outputs": [
        {
          "output_type": "stream",
          "name": "stdout",
          "text": [
            "첫 번째 숫자를 입력하세요 : 5.3\n",
            "두 번째 숫자를 입력하세요 : 10\n",
            "5.3 + 10.0 = 15.3\n",
            "5.3 - 10.0 = -4.7\n",
            "5.3 X 10.0 = 53.0\n",
            "5.3 / 10.0 = 0.53\n",
            "5.3 // 10.0 = 0.0\n",
            "5.3 % 10.0 = 5.3\n",
            "5.3 ** 10.0 = 17488747.0365513\n"
          ]
        }
      ],
      "source": [
        "num1 = float(input(\"첫 번째 숫자를 입력하세요 : \"))\n",
        "num2 = float(input(\"두 번째 숫자를 입력하세요 : \"))\n",
        "\n",
        "result1 = num1 + num2\n",
        "result2 = num1 - num2\n",
        "result3 = num1 * num2\n",
        "result4 = num1 / num2\n",
        "result5 = num1 // num2\n",
        "result6 = num1 % num2\n",
        "result7 = num1 ** num2\n",
        "\n",
        "print(num1, \"+\", num2, \"=\", result1)\n",
        "print(num1, \"-\", num2, \"=\", result2)\n",
        "print(num1, \"X\", num2, \"=\", result3)\n",
        "print(num1, \"/\", num2, \"=\", result4)\n",
        "print(num1, \"//\", num2, \"=\", result5)\n",
        "print(num1, \"%\", num2, \"=\", result6)\n",
        "print(num1, \"**\", num2, \"=\", result7)"
      ]
    }
  ]
}