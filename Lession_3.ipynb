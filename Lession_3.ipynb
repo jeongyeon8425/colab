{
  "nbformat": 4,
  "nbformat_minor": 0,
  "metadata": {
    "colab": {
      "name": "Lession-3.ipynb",
      "provenance": [],
      "authorship_tag": "ABX9TyOpnsrOh+lGK48bsLQXa9P7",
      "include_colab_link": true
    },
    "kernelspec": {
      "name": "python3",
      "display_name": "Python 3"
    },
    "language_info": {
      "name": "python"
    }
  },
  "cells": [
    {
      "cell_type": "markdown",
      "metadata": {
        "id": "view-in-github",
        "colab_type": "text"
      },
      "source": [
        "<a href=\"https://colab.research.google.com/github/jeongyeon8425/colab/blob/main/Lession_3.ipynb\" target=\"_parent\"><img src=\"https://colab.research.google.com/assets/colab-badge.svg\" alt=\"Open In Colab\"/></a>"
      ]
    },
    {
      "cell_type": "markdown",
      "source": [
        "연산자 예제"
      ],
      "metadata": {
        "id": "KrRyg9ah4fur"
      }
    },
    {
      "cell_type": "code",
      "execution_count": 1,
      "metadata": {
        "colab": {
          "base_uri": "https://localhost:8080/"
        },
        "id": "ZiRQCj1Y4K8g",
        "outputId": "4e20a64f-3316-4bce-c141-1c068d9aae42"
      },
      "outputs": [
        {
          "output_type": "stream",
          "name": "stdout",
          "text": [
            "나눠지는 수 ==> 25\n",
            "나누는 수 ==> 10\n",
            "25 을(를) 10 (으)로 나눈 몫은  2 입니다.\n",
            "25 을(를) 10 (으)로 나눈 나머지는  5 입니다.\n"
          ]
        }
      ],
      "source": [
        "num1 = int(input(\"나눠지는 수 ==> \"))\n",
        "num2 = int(input(\"나누는 수 ==> \"))\n",
        "q = num1 // num2\n",
        "r = num1 % num2\n",
        "print(num1, '을(를)', num2, '(으)로 나눈 몫은 ', q, '입니다.')\n",
        "print(num1, '을(를)', num2, '(으)로 나눈 나머지는 ', r, '입니다.')"
      ]
    },
    {
      "cell_type": "markdown",
      "source": [
        "짝수, 홀수 판별 프로그램"
      ],
      "metadata": {
        "id": "dSHpKSwS6F1b"
      }
    },
    {
      "cell_type": "code",
      "source": [
        "num = int(input(\"정수를 입력 ==> \"))\n",
        "\n",
        "if num%2 == 0 :\n",
        "  print(num, \"은(는) 짝수입니다.\")\n",
        "  print(\"ok\")\n",
        "else :\n",
        "  print(num, \"은(는) 홀수입니다.\", end=\"\")"
      ],
      "metadata": {
        "colab": {
          "base_uri": "https://localhost:8080/"
        },
        "id": "j_xrAR6M_MHp",
        "outputId": "e6de298d-b35f-4ea1-b537-b256e25b97fc"
      },
      "execution_count": 20,
      "outputs": [
        {
          "output_type": "stream",
          "name": "stdout",
          "text": [
            "정수를 입력 ==> 2\n",
            "2 은(는) 짝수입니다.\n",
            "ok\n"
          ]
        }
      ]
    },
    {
      "cell_type": "markdown",
      "source": [
        "형성평가"
      ],
      "metadata": {
        "id": "g7vUSQAe7NS7"
      }
    },
    {
      "cell_type": "code",
      "source": [
        "pound = int(input(\"파운드(lb)를 입력하세요 : \"))\n",
        "kg = pound * 0.453592\n",
        "print(pound, \"파운드(lb)는\", round(kg, 5), \"킬로그램(kg)입니다.\")\n",
        "\n",
        "kg = int(input(\"킬로그램(kg)을 입력하세요 : \"))\n",
        "pound = kg * 2.204623\n",
        "print(kg, \"킬로그램(kg)은\", round(pound, 5), \"파운드(lb)입니다.\")"
      ],
      "metadata": {
        "colab": {
          "base_uri": "https://localhost:8080/"
        },
        "id": "XDphYWKu9Tc6",
        "outputId": "6d8f0a0e-2b99-436d-f603-4b7a220e661c"
      },
      "execution_count": 9,
      "outputs": [
        {
          "output_type": "stream",
          "name": "stdout",
          "text": [
            "파운드(lb)를 입력하세요 : 5\n",
            "5 파운드(lb)는 2.26796 킬로그램(kg)입니다.\n",
            "킬로그램(kg)을 입력하세요 : 6\n",
            "6 킬로그램(kg)은 13.22774 파운드(lb)입니다.\n"
          ]
        }
      ]
    },
    {
      "cell_type": "markdown",
      "source": [
        "bmi 계산기"
      ],
      "metadata": {
        "id": "k2nw6dDp9qVC"
      }
    },
    {
      "cell_type": "code",
      "source": [
        "weight = float(input(\"몸무게를 입력 ==> \"))\n",
        "height = float(input(\"키(신장)을 입력(cm) ==> \"))\n",
        "height = height * 0.01\n",
        "bmi = weight / (height * height)\n",
        "print(\"당신의 bmi : \", round(bmi, 3))"
      ],
      "metadata": {
        "colab": {
          "base_uri": "https://localhost:8080/"
        },
        "id": "v-mXXGj3_GmD",
        "outputId": "4fe2593b-5008-43df-ddd7-b8e5fb059218"
      },
      "execution_count": 16,
      "outputs": [
        {
          "output_type": "stream",
          "name": "stdout",
          "text": [
            "몸무게를 입력 ==> 90\n",
            "키(신장)을 입력(cm) ==> 177\n",
            "당신의 bmi :  28.727\n"
          ]
        }
      ]
    },
    {
      "cell_type": "markdown",
      "source": [
        "하루 매출 계산"
      ],
      "metadata": {
        "id": "Oevwf9MyATSJ"
      }
    },
    {
      "cell_type": "code",
      "source": [
        "total = 0\n",
        "\n",
        "#구입한 물품\n",
        "total -= 900 * 10\n",
        "total -= 3500 * 5\n",
        "\n",
        "#판매한 물품\n",
        "total += 1800 * 2\n",
        "total += 4000 * 4\n",
        "total += 1500\n",
        "total += 2000 * 4\n",
        "total += 1800 * 5\n",
        "print(\"오늘 총 매출액은\", total, \"원입니다.\")"
      ],
      "metadata": {
        "colab": {
          "base_uri": "https://localhost:8080/"
        },
        "id": "MBeb2hqVARu5",
        "outputId": "94dcdd19-c7a2-4c57-f59f-b69b8e08a6d1"
      },
      "execution_count": 24,
      "outputs": [
        {
          "output_type": "stream",
          "name": "stdout",
          "text": [
            "오늘 총 매출액은 11600 원입니다.\n"
          ]
        }
      ]
    },
    {
      "cell_type": "markdown",
      "source": [
        "비교연산자 예제"
      ],
      "metadata": {
        "id": "Yr5gauNKE3Op"
      }
    },
    {
      "cell_type": "code",
      "source": [
        "score = int(input(\"필기 시험점수를 입력하세요 ==>\"))\n",
        "print(score >= 70)"
      ],
      "metadata": {
        "colab": {
          "base_uri": "https://localhost:8080/"
        },
        "id": "CEQtUE9YE4x5",
        "outputId": "aaa44672-3c84-4226-9ea1-ed1819b567eb"
      },
      "execution_count": 25,
      "outputs": [
        {
          "output_type": "stream",
          "name": "stdout",
          "text": [
            "필기 시험점수를 입력하세요 ==>70\n",
            "True\n"
          ]
        }
      ]
    },
    {
      "cell_type": "markdown",
      "source": [
        "평균 학점 구하기"
      ],
      "metadata": {
        "id": "9dFQijfVGfjq"
      }
    },
    {
      "cell_type": "code",
      "source": [
        "python = 3\n",
        "mobile = 2\n",
        "excel = 1\n",
        "\n",
        "A = 4.5\n",
        "A0 = 4.0\n",
        "B = 3.5\n",
        "\n",
        "avg = ((python * B) + (mobile * A0) + (excel * A)) / (python + mobile + excel)\n",
        "print(\"평균 학점 : \", avg)"
      ],
      "metadata": {
        "colab": {
          "base_uri": "https://localhost:8080/"
        },
        "id": "p0jpmz1WHObh",
        "outputId": "ed168fac-2bad-4c8e-9cda-62f28b314853"
      },
      "execution_count": 28,
      "outputs": [
        {
          "output_type": "stream",
          "name": "stdout",
          "text": [
            "평균 학점 :  3.8333333333333335\n"
          ]
        }
      ]
    },
    {
      "cell_type": "markdown",
      "source": [
        "3장 거북이"
      ],
      "metadata": {
        "id": "Tb_n_k-kJCOI"
      }
    },
    {
      "cell_type": "code",
      "source": [
        "#!pip3 install ColabTurtle\n",
        "import ColabTurtle.Turtle as turtle\n",
        "\n",
        "turtle.initializeTurtle()\n",
        "while True :\n",
        "  angle = int(input(\"거북이의 회전 각도 : \"))\n",
        "  if angle == 0 :\n",
        "    break;\n",
        "  distance = int(input(\"거북이의 이동 거리 : \"))\n",
        "  \n",
        "  turtle.left(angle)\n",
        "  turtle.forward(distance)\n",
        "#print(angle, distance)"
      ],
      "metadata": {
        "colab": {
          "base_uri": "https://localhost:8080/",
          "height": 702
        },
        "id": "BR3LPuMbMXyX",
        "outputId": "dd57902d-7c0e-4aab-8970-d48c1e610261"
      },
      "execution_count": null,
      "outputs": [
        {
          "output_type": "display_data",
          "data": {
            "text/plain": [
              "<IPython.core.display.HTML object>"
            ],
            "text/html": [
              "\n",
              "      <svg width=\"800\" height=\"500\">\n",
              "        <rect width=\"100%\" height=\"100%\" fill=\"black\"/>\n",
              "        <line x1=\"400\" y1=\"250\" x2=\"468.404\" y2=\"437.939\" stroke-linecap=\"round\" style=\"stroke:white;stroke-width:4\"/><line x1=\"468.404\" y1=\"437.939\" x2=\"553.597\" y2=\"477.665\" stroke-linecap=\"round\" style=\"stroke:white;stroke-width:4\"/><line x1=\"553.597\" y1=\"477.665\" x2=\"626.402\" y2=\"502.734\" stroke-linecap=\"round\" style=\"stroke:white;stroke-width:4\"/><line x1=\"626.402\" y1=\"502.734\" x2=\"644.997\" y2=\"462.856\" stroke-linecap=\"round\" style=\"stroke:white;stroke-width:4\"/>\n",
              "        <g visibility=visible transform=\"rotate(385,644.997,462.856) translate(626.997, 444.856)\">\n",
              "<path style=\" stroke:none;fill-rule:evenodd;fill:white;fill-opacity:1;\" d=\"M 18.214844 0.632812 C 16.109375 1.800781 15.011719 4.074219 15.074219 7.132812 L 15.085938 7.652344 L 14.785156 7.496094 C 13.476562 6.824219 11.957031 6.671875 10.40625 7.066406 C 8.46875 7.550781 6.515625 9.15625 4.394531 11.992188 C 3.0625 13.777344 2.679688 14.636719 3.042969 15.027344 L 3.15625 15.152344 L 3.519531 15.152344 C 4.238281 15.152344 4.828125 14.886719 8.1875 13.039062 C 9.386719 12.378906 10.371094 11.839844 10.378906 11.839844 C 10.386719 11.839844 10.355469 11.929688 10.304688 12.035156 C 9.832031 13.09375 9.257812 14.820312 8.96875 16.078125 C 7.914062 20.652344 8.617188 24.53125 11.070312 27.660156 C 11.351562 28.015625 11.363281 27.914062 10.972656 28.382812 C 8.925781 30.84375 7.945312 33.28125 8.238281 35.1875 C 8.289062 35.527344 8.28125 35.523438 8.917969 35.523438 C 10.941406 35.523438 13.074219 34.207031 15.136719 31.6875 C 15.359375 31.417969 15.328125 31.425781 15.5625 31.574219 C 16.292969 32.042969 18.023438 32.964844 18.175781 32.964844 C 18.335938 32.964844 19.941406 32.210938 20.828125 31.71875 C 20.996094 31.625 21.136719 31.554688 21.136719 31.558594 C 21.203125 31.664062 21.898438 32.414062 22.222656 32.730469 C 23.835938 34.300781 25.5625 35.132812 27.582031 35.300781 C 27.90625 35.328125 27.9375 35.308594 28.007812 34.984375 C 28.382812 33.242188 27.625 30.925781 25.863281 28.425781 L 25.542969 27.96875 L 25.699219 27.785156 C 28.945312 23.960938 29.132812 18.699219 26.257812 11.96875 L 26.207031 11.84375 L 27.945312 12.703125 C 31.53125 14.476562 32.316406 14.800781 33.03125 14.800781 C 33.976562 14.800781 33.78125 13.9375 32.472656 12.292969 C 28.519531 7.355469 25.394531 5.925781 21.921875 7.472656 L 21.558594 7.636719 L 21.578125 7.542969 C 21.699219 6.992188 21.761719 5.742188 21.699219 5.164062 C 21.496094 3.296875 20.664062 1.964844 19.003906 0.855469 C 18.480469 0.503906 18.457031 0.5 18.214844 0.632812\"/>\n",
              "</g>\n",
              "      </svg>\n",
              "    "
            ]
          },
          "metadata": {}
        },
        {
          "name": "stdout",
          "output_type": "stream",
          "text": [
            "거북이의 회전 각도 : 2000\n",
            "거북이의 이동 거리 : 200\n",
            "거북이의 회전 각도 : 45\n",
            "거북이의 이동 거리 : 94\n",
            "거북이의 회전 각도 : 6\n",
            "거북이의 이동 거리 : 77\n",
            "거북이의 회전 각도 : 84\n",
            "거북이의 이동 거리 : 44\n"
          ]
        }
      ]
    }
  ]
}