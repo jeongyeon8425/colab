{
  "nbformat": 4,
  "nbformat_minor": 0,
  "metadata": {
    "colab": {
      "name": "Lession1-1.ipynb",
      "provenance": [],
      "authorship_tag": "ABX9TyPD7EPeEA+BJnincPkQb1U1",
      "include_colab_link": true
    },
    "kernelspec": {
      "name": "python3",
      "display_name": "Python 3"
    },
    "language_info": {
      "name": "python"
    }
  },
  "cells": [
    {
      "cell_type": "markdown",
      "metadata": {
        "id": "view-in-github",
        "colab_type": "text"
      },
      "source": [
        "<a href=\"https://colab.research.google.com/github/jeongyeon8425/colab/blob/main/Lession1_1.ipynb\" target=\"_parent\"><img src=\"https://colab.research.google.com/assets/colab-badge.svg\" alt=\"Open In Colab\"/></a>"
      ]
    },
    {
      "cell_type": "markdown",
      "source": [
        "#파이썬 시작하기\n",
        "\n",
        "\n",
        "*   프로그래밍 언어?\n",
        " * 컴퓨터와 스마트폰에 들어 있는 많은 소프트웨어 유튜브, 메시지,\n",
        "  전화, 카카오톡 등\n",
        " * 프로그램, 소프트웨어(Software), 어플리케이션(Application), 앱(App), 응용 프로그램 모두 동일한 용어입니다.\n",
        "\n"
      ],
      "metadata": {
        "id": "CdtXAHWQGfPV"
      }
    },
    {
      "cell_type": "markdown",
      "source": [
        "\n",
        "# 프로그램, 프로그래밍 언어, 프로그래머\n",
        "* 프로그래밍(Programming)\n",
        " * 프로그램을 만드는 작업\n",
        "\n",
        "* 프로그래밍 언어(Proogramming languge)\n",
        " * 사람이 이해하는 말을 언어라고 부르듯이 컴퓨터가 이해하는 언어를 의미\n",
        "\n",
        "* 프로그래머(Programer)\n",
        " * 프로그래밍 언어를 사용하는 소프트웨어나 앱을 만드는 직업을 가진 사람들\n",
        "\n",
        "\n"
      ],
      "metadata": {
        "id": "ftGvR7_NLMql"
      }
    },
    {
      "cell_type": "markdown",
      "source": [
        "예제"
      ],
      "metadata": {
        "id": "qX0w9zK4PLzM"
      }
    },
    {
      "cell_type": "code",
      "execution_count": 1,
      "metadata": {
        "colab": {
          "base_uri": "https://localhost:8080/"
        },
        "id": "bMKPq6rIGT2O",
        "outputId": "411b9e69-e7dc-4ddf-de45-8b3e9c1b70b7"
      },
      "outputs": [
        {
          "output_type": "stream",
          "name": "stdout",
          "text": [
            "400\n"
          ]
        }
      ],
      "source": [
        "print(100+300)"
      ]
    },
    {
      "cell_type": "code",
      "source": [
        "print(200/3*4)"
      ],
      "metadata": {
        "colab": {
          "base_uri": "https://localhost:8080/"
        },
        "id": "7nMo1qPMPV2r",
        "outputId": "77162ea8-acb9-4ce4-ebdf-d5281c4e9e8a"
      },
      "execution_count": 2,
      "outputs": [
        {
          "output_type": "stream",
          "name": "stdout",
          "text": [
            "266.6666666666667\n"
          ]
        }
      ]
    },
    {
      "cell_type": "code",
      "source": [
        "print(\"난생처음 파이썬을\")\n",
        "print(\"열심히 공부 중입니다~\")\n",
        "print(\"이젠 저도 파이썬 프로그래머입니다>_<\")"
      ],
      "metadata": {
        "colab": {
          "base_uri": "https://localhost:8080/"
        },
        "id": "gwZlKvdWPwOK",
        "outputId": "559d61df-cf99-473a-c047-4ab33db13439"
      },
      "execution_count": 3,
      "outputs": [
        {
          "output_type": "stream",
          "name": "stdout",
          "text": [
            "난생처음 파이썬을\n",
            "열심히 공부 중입니다~\n",
            "이젠 저도 파이썬 프로그래머입니다>_<\n"
          ]
        }
      ]
    }
  ]
}