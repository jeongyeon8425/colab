{
  "nbformat": 4,
  "nbformat_minor": 0,
  "metadata": {
    "colab": {
      "provenance": [],
      "authorship_tag": "ABX9TyOQBmSUOlhsDOGkzwqPfgkx",
      "include_colab_link": true
    },
    "kernelspec": {
      "name": "python3",
      "display_name": "Python 3"
    },
    "language_info": {
      "name": "python"
    }
  },
  "cells": [
    {
      "cell_type": "markdown",
      "metadata": {
        "id": "view-in-github",
        "colab_type": "text"
      },
      "source": [
        "<a href=\"https://colab.research.google.com/github/jeongyeon8425/colab/blob/main/Untitled0.ipynb\" target=\"_parent\"><img src=\"https://colab.research.google.com/assets/colab-badge.svg\" alt=\"Open In Colab\"/></a>"
      ]
    },
    {
      "cell_type": "markdown",
      "source": [
        "뉴스 속보"
      ],
      "metadata": {
        "id": "s-qsPfGo1nL4"
      }
    },
    {
      "cell_type": "code",
      "execution_count": 9,
      "metadata": {
        "colab": {
          "base_uri": "https://localhost:8080/"
        },
        "id": "cccBJphfvdxa",
        "outputId": "aae4b621-1f8a-49d1-e32f-0ba2ee1508ac"
      },
      "outputs": [
        {
          "output_type": "stream",
          "name": "stdout",
          "text": [
            "1 번째 뉴스입니다. 우크라군 전세 역전 조짐…이틀 새 '서울 10배 면적' 탈환\n",
            "2 번째 뉴스입니다. [영상] 에미상 뒤집은 78세 오영수 꺾기춤…외국인들도 \"러블리\"\n",
            "3 번째 뉴스입니다. 제14호 태풍 '난마돌' 북상중…19일 제주 접근\n",
            "4 번째 뉴스입니다. 살려달라 애원하는 듯…총상 입은 북극곰｜AI가 Pick한 세상\n",
            "5 번째 뉴스입니다. 박지원 \"이재명·김건희 문제 쌍특검 하고 영수회담서 경제 논의해야\"\n",
            "6 번째 뉴스입니다. 국민의힘 당헌 개정 하자 있는지 서울남부지법서 오늘 가처분 심문\n",
            "7 번째 뉴스입니다. 원달러 환율, 장중 1390원 넘었다…13년5개월여 만에 처음\n",
            "8 번째 뉴스입니다. 신규 확진 8일 만에 9만명대…연휴 끝나자 반등\n",
            "9 번째 뉴스입니다. 이재명 오늘 봉하마을 방문…고 노무현 대통령 묘역 참배\n",
            "10 번째 뉴스입니다. 경찰, 이재명에 '제3자 뇌물공여' 혐의 적용…뒤집힌 판단\n",
            "11 번째 뉴스입니다. '116억원 횡령 의혹' 방송인 박수홍의 친형 구속\n",
            "12 번째 뉴스입니다. 중대본 \"추석연휴 이동·접촉 늘어 확진자 일시적 반등\"\n",
            "13 번째 뉴스입니다. \"직접 받은 돈 없으니 제3자로 엮어\" \"또 이재명 죽이기\" 반발\n",
            "14 번째 뉴스입니다. \"반말하는 줄 착각\"…만취해 대리기사 폭행한 50대\n",
            "15 번째 뉴스입니다. '안심전환대출' 출시…신청 방법과 주의할 점은?｜아침& 라이프\n",
            "16 번째 뉴스입니다. [단독] 호화청사 팔라더니…대규모 수술보다 '인력 다이어트'\n",
            "17 번째 뉴스입니다. [단독] 마스크 대란 때 식약처 로비 명목 '억대 뒷돈' 포착\n",
            "18 번째 뉴스입니다. 비대위원 발표 90분 만에 '친윤' 인사 사퇴…시작부터 삐걱\n",
            "19 번째 뉴스입니다. 일본, 이르면 다음 달 관광객 무비자 입국 허용 검토\n",
            "20 번째 뉴스입니다. 미 8월 물가, 예상 넘은 8.3% 상승…커지는 '울트라스텝' 공포\n"
          ]
        }
      ],
      "source": [
        "#!pip install beautifulsoup4\n",
        "#!pip install requests\n",
        "\n",
        "import requests\n",
        "from bs4 import BeautifulSoup as bs\n",
        "\n",
        "page = requests.get(\"https://media.naver.com/press/437/ranking?type=popular\")\n",
        "soup = bs(page.text, \"html.parser\")\n",
        "elements = soup.findAll('strong', class_=\"list_title\")\n",
        "no = 1\n",
        "for news in elements :\n",
        "  print(no, \"번째 뉴스입니다.\", news.text)\n",
        "  no = no + 1"
      ]
    },
    {
      "cell_type": "code",
      "source": [
        "today = ['happy','love','lucky','sad','hot','angry'] \n",
        "index = int(input('입력 >> '))\n",
        "print(today[index])"
      ],
      "metadata": {
        "colab": {
          "base_uri": "https://localhost:8080/"
        },
        "id": "nUiy99cyAK6b",
        "outputId": "5851d555-4841-42f7-b68b-8b04697aac5a"
      },
      "execution_count": 10,
      "outputs": [
        {
          "output_type": "stream",
          "name": "stdout",
          "text": [
            "입력 >> 3\n",
            "sad\n"
          ]
        }
      ]
    }
  ]
}