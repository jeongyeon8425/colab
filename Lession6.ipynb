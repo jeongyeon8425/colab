{
  "cells": [
    {
      "cell_type": "markdown",
      "metadata": {
        "id": "view-in-github",
        "colab_type": "text"
      },
      "source": [
        "<a href=\"https://colab.research.google.com/github/jeongyeon8425/colab/blob/main/Lession6.ipynb\" target=\"_parent\"><img src=\"https://colab.research.google.com/assets/colab-badge.svg\" alt=\"Open In Colab\"/></a>"
      ]
    },
    {
      "cell_type": "markdown",
      "metadata": {
        "id": "c36wDCicvqy1"
      },
      "source": [
        "반복문"
      ]
    },
    {
      "cell_type": "code",
      "execution_count": null,
      "metadata": {
        "colab": {
          "base_uri": "https://localhost:8080/"
        },
        "id": "fYMESXY-u7eG",
        "outputId": "e87bb9aa-abb8-442d-ff78-4dfa27be190a"
      },
      "outputs": [
        {
          "name": "stdout",
          "output_type": "stream",
          "text": [
            "난새처음 파이썬은 재미있습니다^_^\n",
            "난새처음 파이썬은 재미있습니다^_^\n",
            "난새처음 파이썬은 재미있습니다^_^\n"
          ]
        }
      ],
      "source": [
        "for i in range(3) :\n",
        "  print(\"난생처음 파이썬은 재미있습니다^_^\")"
      ]
    },
    {
      "cell_type": "code",
      "execution_count": null,
      "metadata": {
        "colab": {
          "base_uri": "https://localhost:8080/"
        },
        "id": "zbERrvhZwJmr",
        "outputId": "98a74f68-e39c-410f-a9a7-196705018e67"
      },
      "outputs": [
        {
          "name": "stdout",
          "output_type": "stream",
          "text": [
            "짜장면\n",
            "김밥\n",
            "라면\n"
          ]
        }
      ],
      "source": [
        "myList = [\"짜장면\", \"김밥\", \"라면\"]\n",
        "for i in myList :\n",
        "  print(i)"
      ]
    },
    {
      "cell_type": "code",
      "execution_count": null,
      "metadata": {
        "colab": {
          "base_uri": "https://localhost:8080/"
        },
        "id": "KEl0qFvGw4rc",
        "outputId": "04dbcf7b-c55d-467a-81c1-0e871c069095"
      },
      "outputs": [
        {
          "name": "stdout",
          "output_type": "stream",
          "text": [
            "2\n",
            "4\n",
            "6\n"
          ]
        }
      ],
      "source": [
        "for i in range(2, 8, 2):\n",
        "  print(i)"
      ]
    },
    {
      "cell_type": "code",
      "execution_count": null,
      "metadata": {
        "id": "vsF5yGbIxpyT"
      },
      "outputs": [],
      "source": [
        "sum= 0\n",
        "for i in range(1, 100, 2) :\n",
        "  sum = sum + i"
      ]
    },
    {
      "cell_type": "markdown",
      "metadata": {
        "id": "2KMxEKZsyMcS"
      },
      "source": [
        "sum = 1-3+5-7+9 ..+99"
      ]
    },
    {
      "cell_type": "code",
      "execution_count": null,
      "metadata": {
        "colab": {
          "base_uri": "https://localhost:8080/"
        },
        "id": "vCLOZzWnySl7",
        "outputId": "b22cd413-63cf-42e8-cf74-06fbb76c1a9d"
      },
      "outputs": [
        {
          "name": "stdout",
          "output_type": "stream",
          "text": [
            "-50\n"
          ]
        }
      ],
      "source": [
        "flag = 1\n",
        "sum = 0\n",
        "for i in range(1, 100, 2):\n",
        "  if flag == 1 :\n",
        "    sum = sum + i\n",
        "    flag = flag * - 1\n",
        "  else:\n",
        "    sum = sum - i\n",
        "    flag = flag * - 1\n",
        "print(sum)"
      ]
    },
    {
      "cell_type": "code",
      "execution_count": null,
      "metadata": {
        "colab": {
          "base_uri": "https://localhost:8080/"
        },
        "id": "UpGhzY_502E1",
        "outputId": "13e81fdd-0089-4666-fbe2-fad8131b6277"
      },
      "outputs": [
        {
          "name": "stdout",
          "output_type": "stream",
          "text": [
            "A, B, C, D, E 학생들을 순서대로 세우는 경우의 수 :  120\n"
          ]
        }
      ],
      "source": [
        "fact = 1 \n",
        "friends_num = 5\n",
        "\n",
        "for i in range(1, friends_num + 1, 1):\n",
        "  fact = fact * i\n",
        "\n",
        "print(\"A, B, C, D, E 학생들을 순서대로 세우는 경우의 수 : \", fact)"
      ]
    },
    {
      "cell_type": "markdown",
      "metadata": {
        "id": "hJVMmD5K1s70"
      },
      "source": [
        "합계 구하기"
      ]
    },
    {
      "cell_type": "code",
      "execution_count": null,
      "metadata": {
        "colab": {
          "base_uri": "https://localhost:8080/"
        },
        "id": "kL9KTfnu1uvq",
        "outputId": "8f536978-7bad-4f9c-c2f9-12f5d432af92"
      },
      "outputs": [
        {
          "name": "stdout",
          "output_type": "stream",
          "text": [
            "1에서 10까지 합 :  55\n"
          ]
        }
      ],
      "source": [
        "hap = 0\n",
        "\n",
        "for i in range(1, 11, 1):\n",
        "  hap = hap + i\n",
        "\n",
        "print(\"1에서 10까지 합 : \", hap) "
      ]
    },
    {
      "cell_type": "markdown",
      "metadata": {
        "id": "EsuphETN3fOa"
      },
      "source": [
        "중첩 for문"
      ]
    },
    {
      "cell_type": "code",
      "execution_count": null,
      "metadata": {
        "colab": {
          "base_uri": "https://localhost:8080/"
        },
        "id": "KHgXnyB13hIs",
        "outputId": "46e1b215-a9db-42da-98da-f79ac7885627"
      },
      "outputs": [
        {
          "name": "stdout",
          "output_type": "stream",
          "text": [
            "난생처음은 쉽습니다.^^(1값 : 0 ,k값: 0 )\n",
            "난생처음은 쉽습니다.^^(1값 : 0 ,k값: 1 )\n",
            "난생처음은 쉽습니다.^^(1값 : 1 ,k값: 0 )\n",
            "난생처음은 쉽습니다.^^(1값 : 1 ,k값: 1 )\n",
            "난생처음은 쉽습니다.^^(1값 : 2 ,k값: 0 )\n",
            "난생처음은 쉽습니다.^^(1값 : 2 ,k값: 1 )\n"
          ]
        }
      ],
      "source": [
        "for i in range(3) :\n",
        "    for k in range(2) :\n",
        "      print(\"난생처음은 쉽습니다.^^(1값 :\", i,\",k값:\",k,\")\")"
      ]
    },
    {
      "cell_type": "code",
      "execution_count": null,
      "metadata": {
        "colab": {
          "base_uri": "https://localhost:8080/"
        },
        "id": "dBEpDBeK4LNj",
        "outputId": "1eff8bb3-8cbb-4814-df2d-b85feef75288"
      },
      "outputs": [
        {
          "name": "stdout",
          "output_type": "stream",
          "text": [
            "중첩 for문입니다\n",
            "중첩 for문입니다\n",
            "중첩 for문입니다\n",
            "중첩 for문입니다\n",
            "중첩 for문입니다\n",
            "중첩 for문입니다\n"
          ]
        }
      ],
      "source": [
        "for i in range(2) :\n",
        "  for k in range(3) :\n",
        "    print(\"중첩 for문입니다\")"
      ]
    },
    {
      "cell_type": "markdown",
      "metadata": {
        "id": "ar4jUPTf-69w"
      },
      "source": [
        "구구단 계산기 만들기"
      ]
    },
    {
      "cell_type": "code",
      "execution_count": null,
      "metadata": {
        "colab": {
          "base_uri": "https://localhost:8080/"
        },
        "id": "PiRd1heA4T2x",
        "outputId": "f489acc3-b5d1-4df2-eeb2-88bee427cfb2"
      },
      "outputs": [
        {
          "name": "stdout",
          "output_type": "stream",
          "text": [
            "2 X 1 = 2\n",
            "2 X 2 = 4\n",
            "2 X 3 = 6\n",
            "2 X 4 = 8\n",
            "2 X 5 = 10\n",
            "2 X 6 = 12\n",
            "2 X 7 = 14\n",
            "2 X 8 = 16\n",
            "2 X 9 = 18\n",
            "\n",
            "3 X 1 = 3\n",
            "3 X 2 = 6\n",
            "3 X 3 = 9\n",
            "3 X 4 = 12\n",
            "3 X 5 = 15\n",
            "3 X 6 = 18\n",
            "3 X 7 = 21\n",
            "3 X 8 = 24\n",
            "3 X 9 = 27\n",
            "\n",
            "4 X 1 = 4\n",
            "4 X 2 = 8\n",
            "4 X 3 = 12\n",
            "4 X 4 = 16\n",
            "4 X 5 = 20\n",
            "4 X 6 = 24\n",
            "4 X 7 = 28\n",
            "4 X 8 = 32\n",
            "4 X 9 = 36\n",
            "\n",
            "5 X 1 = 5\n",
            "5 X 2 = 10\n",
            "5 X 3 = 15\n",
            "5 X 4 = 20\n",
            "5 X 5 = 25\n",
            "5 X 6 = 30\n",
            "5 X 7 = 35\n",
            "5 X 8 = 40\n",
            "5 X 9 = 45\n",
            "\n",
            "6 X 1 = 6\n",
            "6 X 2 = 12\n",
            "6 X 3 = 18\n",
            "6 X 4 = 24\n",
            "6 X 5 = 30\n",
            "6 X 6 = 36\n",
            "6 X 7 = 42\n",
            "6 X 8 = 48\n",
            "6 X 9 = 54\n",
            "\n",
            "7 X 1 = 7\n",
            "7 X 2 = 14\n",
            "7 X 3 = 21\n",
            "7 X 4 = 28\n",
            "7 X 5 = 35\n",
            "7 X 6 = 42\n",
            "7 X 7 = 49\n",
            "7 X 8 = 56\n",
            "7 X 9 = 63\n",
            "\n",
            "8 X 1 = 8\n",
            "8 X 2 = 16\n",
            "8 X 3 = 24\n",
            "8 X 4 = 32\n",
            "8 X 5 = 40\n",
            "8 X 6 = 48\n",
            "8 X 7 = 56\n",
            "8 X 8 = 64\n",
            "8 X 9 = 72\n",
            "\n",
            "9 X 1 = 9\n",
            "9 X 2 = 18\n",
            "9 X 3 = 27\n",
            "9 X 4 = 36\n",
            "9 X 5 = 45\n",
            "9 X 6 = 54\n",
            "9 X 7 = 63\n",
            "9 X 8 = 72\n",
            "9 X 9 = 81\n",
            "\n"
          ]
        }
      ],
      "source": [
        "i = 0\n",
        "j = 0\n",
        "\n",
        "for i in range(2,10) :\n",
        "  for j in range(1, 10) :\n",
        "    print(i, \"X\", j, \"=\", i * j)\n",
        "  print(\"\")"
      ]
    },
    {
      "cell_type": "markdown",
      "metadata": {
        "id": "O9q6l47ZAxdD"
      },
      "source": [
        "입력한 두 숫자의 합계를 반복 계산 (실수 입력 가능)"
      ]
    },
    {
      "cell_type": "code",
      "execution_count": null,
      "metadata": {
        "colab": {
          "base_uri": "https://localhost:8080/"
        },
        "id": "3SjPvshUC8-4",
        "outputId": "e716d687-9adc-430f-a528-03a8ef96a194"
      },
      "outputs": [
        {
          "name": "stdout",
          "output_type": "stream",
          "text": [
            "숫자1 입력 => 0\n"
          ]
        }
      ],
      "source": [
        "while True :\n",
        "  num1 = input(\"숫자1 입력 => \")\n",
        "  if num1 == \"0\" : break\n",
        "  num2 = input(\"숫자2 입력 => \")\n",
        "  result = float(num1) + float(num2)\n",
        "  print(num1, \"+\", num2, \"=\", result)"
      ]
    },
    {
      "cell_type": "markdown",
      "metadata": {
        "id": "8VZVxUy0DrZa"
      },
      "source": [
        "주사위 게임( 몇 번을 던져야 같은 숫자가 나오냐~? )"
      ]
    },
    {
      "cell_type": "code",
      "execution_count": null,
      "metadata": {
        "colab": {
          "base_uri": "https://localhost:8080/"
        },
        "id": "tzk9W_0RDuNK",
        "outputId": "a1b3a412-50aa-46b3-a988-4f546970e406"
      },
      "outputs": [
        {
          "name": "stdout",
          "output_type": "stream",
          "text": [
            "3개의 주사위는 모두 1 나왔다.\n",
            "같은 숫자가 나오기까지 5 번 던졌습니다.\n"
          ]
        }
      ],
      "source": [
        "import random\n",
        "count = 0\n",
        "while True :\n",
        "  r1 = random.randint(1,6)\n",
        "  r2 = random.randint(1,6)\n",
        "  r3 = random.randint(1,6)\n",
        "  count = count + 1\n",
        "  if r1 == r2 == r3 : break \n",
        "print(\"3개의 주사위는 모두\", r1, \"나왔다.\")\n",
        "print(\"같은 숫자가 나오기까지\", count, \"번 던졌습니다.\")"
      ]
    },
    {
      "cell_type": "markdown",
      "metadata": {
        "id": "uuEiyGJmGU4D"
      },
      "source": [
        "컴퓨터가 생각한 숫자 맞히기 게임"
      ]
    },
    {
      "cell_type": "code",
      "execution_count": null,
      "metadata": {
        "colab": {
          "base_uri": "https://localhost:8080/"
        },
        "id": "H2leGiZHGi5y",
        "outputId": "09d248ab-7fc1-4ed9-9a90-a6ea93405479"
      },
      "outputs": [
        {
          "name": "stdout",
          "output_type": "stream",
          "text": [
            "게임 1 회컴퓨터가 생각한 숫자는 ? 4\n",
            "으앙 아까워요 0 였는데요ㅠ 다시 해보세요!\n",
            "게임 2 회컴퓨터가 생각한 숫자는 ? 0\n",
            "맞혔네요. 축하합니다~!!\n",
            "게임을 마칩니다\n"
          ]
        }
      ],
      "source": [
        "import random\n",
        "\n",
        "computer, user = 0,0\n",
        "\n",
        "for i in range(1,11) :\n",
        "  couputer = random.randint(1, 5)\n",
        "  print(\"게임\", i, \"회\", end='')\n",
        "  user = int(input(\"컴퓨터가 생각한 숫자는 ? \"))\n",
        "\n",
        "  if computer == user :\n",
        "    print(\"맞혔네요. 축하합니다~!!\")\n",
        "    break\n",
        "  else :\n",
        "    print(\"으앙 아까워요\", computer, \"였는데요ㅠ 다시 해보세요!\")\n",
        "    continue\n",
        "print(\"게임을 마칩니다\")"
      ]
    },
    {
      "cell_type": "markdown",
      "metadata": {
        "id": "0DjQniOgKuYc"
      },
      "source": [
        "야구게임"
      ]
    },
    {
      "cell_type": "code",
      "execution_count": null,
      "metadata": {
        "colab": {
          "background_save": true,
          "base_uri": "https://localhost:8080/"
        },
        "id": "E41pAZp1Kvls",
        "outputId": "e9bf5143-4ee5-47f9-8de3-a028aea270a6"
      },
      "outputs": [
        {
          "name": "stdout",
          "output_type": "stream",
          "text": [
            "**야구 게임 **\n",
            "0 스트라이크  :  0 볼\n",
            "0 스트라이크  :  2 볼\n",
            "0 스트라이크  :  3 볼\n",
            "0 스트라이크  :  4 볼\n",
            "0 스트라이크  :  5 볼\n"
          ]
        }
      ],
      "source": [
        "import random\n",
        "com_list = [1,2,3,4,5,6,7,8,9]\n",
        "com_num, usr_num = [], []\n",
        "\n",
        "def usr_fun() :\n",
        "  usr = input(\"3개의 숫자를 입력(1~9까지) ==> \")\n",
        "  for i in range(0,5,2) :\n",
        "    usr_num.append(int(usr[i]))\n",
        "\n",
        "#컴퓨터 - 3개의 중복되지 않는 숫자 만들기\n",
        "for i in range(3) :\n",
        "  r = random.choice(com_list)\n",
        "  com_list.remove(r)\n",
        "  com_num.append(r)\n",
        "\n",
        "print(\"**야구 게임 **\")\n",
        " #스트라이크 및 볼 판정-----------------------------\n",
        "strike, ball = 0, 0\n",
        "while True :\n",
        "  usr_num.clear()\n",
        "  usr_fun()\n",
        "  for i in range(3) :\n",
        "    if com_num[i] == usr_num[i] :\n",
        "      strike = strike + 1\n",
        "    elif usr_num[i] in com_num :\n",
        "      ball = ball + 1\n",
        "  print(strike,\"스트라이크\", \" : \", ball, \"볼\")\n",
        "  if strike == 3 :\n",
        "    print(\"축하해용\")\n",
        "    break\n",
        "strike. ball = 0, 0"
      ]
    },
    {
      "cell_type": "markdown",
      "source": [
        "거북이 모양 벽지 만들기"
      ],
      "metadata": {
        "id": "EAx0qqCAtq0n"
      }
    },
    {
      "cell_type": "code",
      "source": [
        "#!pip3 install ColabTurtle\n",
        "import ColabTurtle.Turtle as turtle\n",
        "import random\n",
        "print(turtle.DEFAULT_WINDOW_SIZE)\n",
        "turtle.initializeTurtle()\n",
        "turtle.speed(13)\n",
        "turtle.left(-90)\n",
        "myColor = [\"red\", \"blue\", \"yellow\", \"green\", \"violet\"]\n",
        "for i in range(50,800,50) :\n",
        "  for j in range(50,500,50) :\n",
        "    turtle.penup()\n",
        "    turtle.goto(i,j)\n",
        "    turtle.pendown()\n",
        "    turtle.color(random.choice(myColor))\n",
        "    turtle.forward(1)"
      ],
      "metadata": {
        "colab": {
          "base_uri": "https://localhost:8080/",
          "height": 538
        },
        "id": "XptlktsjtxBY",
        "outputId": "0fb8f356-df0a-4ad5-9aa0-5a75c201bb93"
      },
      "execution_count": 5,
      "outputs": [
        {
          "output_type": "stream",
          "name": "stdout",
          "text": [
            "(800, 500)\n"
          ]
        },
        {
          "output_type": "display_data",
          "data": {
            "text/plain": [
              "<IPython.core.display.HTML object>"
            ],
            "text/html": [
              "\n",
              "      <svg width=\"800\" height=\"500\">\n",
              "        <rect width=\"100%\" height=\"100%\" fill=\"black\"/>\n",
              "        <line x1=\"50\" y1=\"50\" x2=\"51.0\" y2=\"50.0\" stroke-linecap=\"round\" style=\"stroke:violet;stroke-width:4\"/><line x1=\"50\" y1=\"100\" x2=\"51.0\" y2=\"100.0\" stroke-linecap=\"round\" style=\"stroke:blue;stroke-width:4\"/><line x1=\"50\" y1=\"150\" x2=\"51.0\" y2=\"150.0\" stroke-linecap=\"round\" style=\"stroke:blue;stroke-width:4\"/><line x1=\"50\" y1=\"200\" x2=\"51.0\" y2=\"200.0\" stroke-linecap=\"round\" style=\"stroke:blue;stroke-width:4\"/><line x1=\"50\" y1=\"250\" x2=\"51.0\" y2=\"250.0\" stroke-linecap=\"round\" style=\"stroke:yellow;stroke-width:4\"/><line x1=\"50\" y1=\"300\" x2=\"51.0\" y2=\"300.0\" stroke-linecap=\"round\" style=\"stroke:red;stroke-width:4\"/><line x1=\"50\" y1=\"350\" x2=\"51.0\" y2=\"350.0\" stroke-linecap=\"round\" style=\"stroke:green;stroke-width:4\"/><line x1=\"50\" y1=\"400\" x2=\"51.0\" y2=\"400.0\" stroke-linecap=\"round\" style=\"stroke:blue;stroke-width:4\"/><line x1=\"50\" y1=\"450\" x2=\"51.0\" y2=\"450.0\" stroke-linecap=\"round\" style=\"stroke:red;stroke-width:4\"/><line x1=\"100\" y1=\"50\" x2=\"101.0\" y2=\"50.0\" stroke-linecap=\"round\" style=\"stroke:violet;stroke-width:4\"/><line x1=\"100\" y1=\"100\" x2=\"101.0\" y2=\"100.0\" stroke-linecap=\"round\" style=\"stroke:red;stroke-width:4\"/><line x1=\"100\" y1=\"150\" x2=\"101.0\" y2=\"150.0\" stroke-linecap=\"round\" style=\"stroke:violet;stroke-width:4\"/><line x1=\"100\" y1=\"200\" x2=\"101.0\" y2=\"200.0\" stroke-linecap=\"round\" style=\"stroke:blue;stroke-width:4\"/><line x1=\"100\" y1=\"250\" x2=\"101.0\" y2=\"250.0\" stroke-linecap=\"round\" style=\"stroke:green;stroke-width:4\"/><line x1=\"100\" y1=\"300\" x2=\"101.0\" y2=\"300.0\" stroke-linecap=\"round\" style=\"stroke:blue;stroke-width:4\"/><line x1=\"100\" y1=\"350\" x2=\"101.0\" y2=\"350.0\" stroke-linecap=\"round\" style=\"stroke:red;stroke-width:4\"/><line x1=\"100\" y1=\"400\" x2=\"101.0\" y2=\"400.0\" stroke-linecap=\"round\" style=\"stroke:green;stroke-width:4\"/><line x1=\"100\" y1=\"450\" x2=\"101.0\" y2=\"450.0\" stroke-linecap=\"round\" style=\"stroke:yellow;stroke-width:4\"/><line x1=\"150\" y1=\"50\" x2=\"151.0\" y2=\"50.0\" stroke-linecap=\"round\" style=\"stroke:green;stroke-width:4\"/><line x1=\"150\" y1=\"100\" x2=\"151.0\" y2=\"100.0\" stroke-linecap=\"round\" style=\"stroke:red;stroke-width:4\"/><line x1=\"150\" y1=\"150\" x2=\"151.0\" y2=\"150.0\" stroke-linecap=\"round\" style=\"stroke:red;stroke-width:4\"/><line x1=\"150\" y1=\"200\" x2=\"151.0\" y2=\"200.0\" stroke-linecap=\"round\" style=\"stroke:blue;stroke-width:4\"/><line x1=\"150\" y1=\"250\" x2=\"151.0\" y2=\"250.0\" stroke-linecap=\"round\" style=\"stroke:yellow;stroke-width:4\"/><line x1=\"150\" y1=\"300\" x2=\"151.0\" y2=\"300.0\" stroke-linecap=\"round\" style=\"stroke:green;stroke-width:4\"/><line x1=\"150\" y1=\"350\" x2=\"151.0\" y2=\"350.0\" stroke-linecap=\"round\" style=\"stroke:blue;stroke-width:4\"/><line x1=\"150\" y1=\"400\" x2=\"151.0\" y2=\"400.0\" stroke-linecap=\"round\" style=\"stroke:green;stroke-width:4\"/><line x1=\"150\" y1=\"450\" x2=\"151.0\" y2=\"450.0\" stroke-linecap=\"round\" style=\"stroke:blue;stroke-width:4\"/><line x1=\"200\" y1=\"50\" x2=\"201.0\" y2=\"50.0\" stroke-linecap=\"round\" style=\"stroke:green;stroke-width:4\"/><line x1=\"200\" y1=\"100\" x2=\"201.0\" y2=\"100.0\" stroke-linecap=\"round\" style=\"stroke:green;stroke-width:4\"/><line x1=\"200\" y1=\"150\" x2=\"201.0\" y2=\"150.0\" stroke-linecap=\"round\" style=\"stroke:blue;stroke-width:4\"/><line x1=\"200\" y1=\"200\" x2=\"201.0\" y2=\"200.0\" stroke-linecap=\"round\" style=\"stroke:green;stroke-width:4\"/><line x1=\"200\" y1=\"250\" x2=\"201.0\" y2=\"250.0\" stroke-linecap=\"round\" style=\"stroke:red;stroke-width:4\"/><line x1=\"200\" y1=\"300\" x2=\"201.0\" y2=\"300.0\" stroke-linecap=\"round\" style=\"stroke:blue;stroke-width:4\"/><line x1=\"200\" y1=\"350\" x2=\"201.0\" y2=\"350.0\" stroke-linecap=\"round\" style=\"stroke:red;stroke-width:4\"/><line x1=\"200\" y1=\"400\" x2=\"201.0\" y2=\"400.0\" stroke-linecap=\"round\" style=\"stroke:red;stroke-width:4\"/><line x1=\"200\" y1=\"450\" x2=\"201.0\" y2=\"450.0\" stroke-linecap=\"round\" style=\"stroke:blue;stroke-width:4\"/><line x1=\"250\" y1=\"50\" x2=\"251.0\" y2=\"50.0\" stroke-linecap=\"round\" style=\"stroke:yellow;stroke-width:4\"/><line x1=\"250\" y1=\"100\" x2=\"251.0\" y2=\"100.0\" stroke-linecap=\"round\" style=\"stroke:red;stroke-width:4\"/><line x1=\"250\" y1=\"150\" x2=\"251.0\" y2=\"150.0\" stroke-linecap=\"round\" style=\"stroke:red;stroke-width:4\"/><line x1=\"250\" y1=\"200\" x2=\"251.0\" y2=\"200.0\" stroke-linecap=\"round\" style=\"stroke:green;stroke-width:4\"/><line x1=\"250\" y1=\"250\" x2=\"251.0\" y2=\"250.0\" stroke-linecap=\"round\" style=\"stroke:violet;stroke-width:4\"/><line x1=\"250\" y1=\"300\" x2=\"251.0\" y2=\"300.0\" stroke-linecap=\"round\" style=\"stroke:red;stroke-width:4\"/><line x1=\"250\" y1=\"350\" x2=\"251.0\" y2=\"350.0\" stroke-linecap=\"round\" style=\"stroke:red;stroke-width:4\"/><line x1=\"250\" y1=\"400\" x2=\"251.0\" y2=\"400.0\" stroke-linecap=\"round\" style=\"stroke:yellow;stroke-width:4\"/><line x1=\"250\" y1=\"450\" x2=\"251.0\" y2=\"450.0\" stroke-linecap=\"round\" style=\"stroke:red;stroke-width:4\"/><line x1=\"300\" y1=\"50\" x2=\"301.0\" y2=\"50.0\" stroke-linecap=\"round\" style=\"stroke:violet;stroke-width:4\"/><line x1=\"300\" y1=\"100\" x2=\"301.0\" y2=\"100.0\" stroke-linecap=\"round\" style=\"stroke:red;stroke-width:4\"/><line x1=\"300\" y1=\"150\" x2=\"301.0\" y2=\"150.0\" stroke-linecap=\"round\" style=\"stroke:yellow;stroke-width:4\"/><line x1=\"300\" y1=\"200\" x2=\"301.0\" y2=\"200.0\" stroke-linecap=\"round\" style=\"stroke:red;stroke-width:4\"/><line x1=\"300\" y1=\"250\" x2=\"301.0\" y2=\"250.0\" stroke-linecap=\"round\" style=\"stroke:yellow;stroke-width:4\"/><line x1=\"300\" y1=\"300\" x2=\"301.0\" y2=\"300.0\" stroke-linecap=\"round\" style=\"stroke:red;stroke-width:4\"/><line x1=\"300\" y1=\"350\" x2=\"301.0\" y2=\"350.0\" stroke-linecap=\"round\" style=\"stroke:blue;stroke-width:4\"/><line x1=\"300\" y1=\"400\" x2=\"301.0\" y2=\"400.0\" stroke-linecap=\"round\" style=\"stroke:green;stroke-width:4\"/><line x1=\"300\" y1=\"450\" x2=\"301.0\" y2=\"450.0\" stroke-linecap=\"round\" style=\"stroke:violet;stroke-width:4\"/><line x1=\"350\" y1=\"50\" x2=\"351.0\" y2=\"50.0\" stroke-linecap=\"round\" style=\"stroke:yellow;stroke-width:4\"/><line x1=\"350\" y1=\"100\" x2=\"351.0\" y2=\"100.0\" stroke-linecap=\"round\" style=\"stroke:violet;stroke-width:4\"/><line x1=\"350\" y1=\"150\" x2=\"351.0\" y2=\"150.0\" stroke-linecap=\"round\" style=\"stroke:red;stroke-width:4\"/><line x1=\"350\" y1=\"200\" x2=\"351.0\" y2=\"200.0\" stroke-linecap=\"round\" style=\"stroke:red;stroke-width:4\"/><line x1=\"350\" y1=\"250\" x2=\"351.0\" y2=\"250.0\" stroke-linecap=\"round\" style=\"stroke:violet;stroke-width:4\"/><line x1=\"350\" y1=\"300\" x2=\"351.0\" y2=\"300.0\" stroke-linecap=\"round\" style=\"stroke:violet;stroke-width:4\"/><line x1=\"350\" y1=\"350\" x2=\"351.0\" y2=\"350.0\" stroke-linecap=\"round\" style=\"stroke:violet;stroke-width:4\"/><line x1=\"350\" y1=\"400\" x2=\"351.0\" y2=\"400.0\" stroke-linecap=\"round\" style=\"stroke:green;stroke-width:4\"/><line x1=\"350\" y1=\"450\" x2=\"351.0\" y2=\"450.0\" stroke-linecap=\"round\" style=\"stroke:red;stroke-width:4\"/><line x1=\"400\" y1=\"50\" x2=\"401.0\" y2=\"50.0\" stroke-linecap=\"round\" style=\"stroke:blue;stroke-width:4\"/><line x1=\"400\" y1=\"100\" x2=\"401.0\" y2=\"100.0\" stroke-linecap=\"round\" style=\"stroke:violet;stroke-width:4\"/><line x1=\"400\" y1=\"150\" x2=\"401.0\" y2=\"150.0\" stroke-linecap=\"round\" style=\"stroke:violet;stroke-width:4\"/><line x1=\"400\" y1=\"200\" x2=\"401.0\" y2=\"200.0\" stroke-linecap=\"round\" style=\"stroke:red;stroke-width:4\"/><line x1=\"400\" y1=\"250\" x2=\"401.0\" y2=\"250.0\" stroke-linecap=\"round\" style=\"stroke:green;stroke-width:4\"/><line x1=\"400\" y1=\"300\" x2=\"401.0\" y2=\"300.0\" stroke-linecap=\"round\" style=\"stroke:green;stroke-width:4\"/><line x1=\"400\" y1=\"350\" x2=\"401.0\" y2=\"350.0\" stroke-linecap=\"round\" style=\"stroke:violet;stroke-width:4\"/><line x1=\"400\" y1=\"400\" x2=\"401.0\" y2=\"400.0\" stroke-linecap=\"round\" style=\"stroke:violet;stroke-width:4\"/><line x1=\"400\" y1=\"450\" x2=\"401.0\" y2=\"450.0\" stroke-linecap=\"round\" style=\"stroke:green;stroke-width:4\"/><line x1=\"450\" y1=\"50\" x2=\"451.0\" y2=\"50.0\" stroke-linecap=\"round\" style=\"stroke:violet;stroke-width:4\"/><line x1=\"450\" y1=\"100\" x2=\"451.0\" y2=\"100.0\" stroke-linecap=\"round\" style=\"stroke:violet;stroke-width:4\"/><line x1=\"450\" y1=\"150\" x2=\"451.0\" y2=\"150.0\" stroke-linecap=\"round\" style=\"stroke:red;stroke-width:4\"/><line x1=\"450\" y1=\"200\" x2=\"451.0\" y2=\"200.0\" stroke-linecap=\"round\" style=\"stroke:yellow;stroke-width:4\"/><line x1=\"450\" y1=\"250\" x2=\"451.0\" y2=\"250.0\" stroke-linecap=\"round\" style=\"stroke:yellow;stroke-width:4\"/><line x1=\"450\" y1=\"300\" x2=\"451.0\" y2=\"300.0\" stroke-linecap=\"round\" style=\"stroke:yellow;stroke-width:4\"/><line x1=\"450\" y1=\"350\" x2=\"451.0\" y2=\"350.0\" stroke-linecap=\"round\" style=\"stroke:yellow;stroke-width:4\"/><line x1=\"450\" y1=\"400\" x2=\"451.0\" y2=\"400.0\" stroke-linecap=\"round\" style=\"stroke:violet;stroke-width:4\"/><line x1=\"450\" y1=\"450\" x2=\"451.0\" y2=\"450.0\" stroke-linecap=\"round\" style=\"stroke:green;stroke-width:4\"/><line x1=\"500\" y1=\"50\" x2=\"501.0\" y2=\"50.0\" stroke-linecap=\"round\" style=\"stroke:green;stroke-width:4\"/><line x1=\"500\" y1=\"100\" x2=\"501.0\" y2=\"100.0\" stroke-linecap=\"round\" style=\"stroke:yellow;stroke-width:4\"/><line x1=\"500\" y1=\"150\" x2=\"501.0\" y2=\"150.0\" stroke-linecap=\"round\" style=\"stroke:violet;stroke-width:4\"/><line x1=\"500\" y1=\"200\" x2=\"501.0\" y2=\"200.0\" stroke-linecap=\"round\" style=\"stroke:blue;stroke-width:4\"/><line x1=\"500\" y1=\"250\" x2=\"501.0\" y2=\"250.0\" stroke-linecap=\"round\" style=\"stroke:red;stroke-width:4\"/><line x1=\"500\" y1=\"300\" x2=\"501.0\" y2=\"300.0\" stroke-linecap=\"round\" style=\"stroke:green;stroke-width:4\"/><line x1=\"500\" y1=\"350\" x2=\"501.0\" y2=\"350.0\" stroke-linecap=\"round\" style=\"stroke:green;stroke-width:4\"/><line x1=\"500\" y1=\"400\" x2=\"501.0\" y2=\"400.0\" stroke-linecap=\"round\" style=\"stroke:yellow;stroke-width:4\"/><line x1=\"500\" y1=\"450\" x2=\"501.0\" y2=\"450.0\" stroke-linecap=\"round\" style=\"stroke:blue;stroke-width:4\"/><line x1=\"550\" y1=\"50\" x2=\"551.0\" y2=\"50.0\" stroke-linecap=\"round\" style=\"stroke:violet;stroke-width:4\"/><line x1=\"550\" y1=\"100\" x2=\"551.0\" y2=\"100.0\" stroke-linecap=\"round\" style=\"stroke:blue;stroke-width:4\"/><line x1=\"550\" y1=\"150\" x2=\"551.0\" y2=\"150.0\" stroke-linecap=\"round\" style=\"stroke:violet;stroke-width:4\"/><line x1=\"550\" y1=\"200\" x2=\"551.0\" y2=\"200.0\" stroke-linecap=\"round\" style=\"stroke:blue;stroke-width:4\"/><line x1=\"550\" y1=\"250\" x2=\"551.0\" y2=\"250.0\" stroke-linecap=\"round\" style=\"stroke:green;stroke-width:4\"/><line x1=\"550\" y1=\"300\" x2=\"551.0\" y2=\"300.0\" stroke-linecap=\"round\" style=\"stroke:blue;stroke-width:4\"/><line x1=\"550\" y1=\"350\" x2=\"551.0\" y2=\"350.0\" stroke-linecap=\"round\" style=\"stroke:blue;stroke-width:4\"/><line x1=\"550\" y1=\"400\" x2=\"551.0\" y2=\"400.0\" stroke-linecap=\"round\" style=\"stroke:violet;stroke-width:4\"/><line x1=\"550\" y1=\"450\" x2=\"551.0\" y2=\"450.0\" stroke-linecap=\"round\" style=\"stroke:blue;stroke-width:4\"/><line x1=\"600\" y1=\"50\" x2=\"601.0\" y2=\"50.0\" stroke-linecap=\"round\" style=\"stroke:blue;stroke-width:4\"/><line x1=\"600\" y1=\"100\" x2=\"601.0\" y2=\"100.0\" stroke-linecap=\"round\" style=\"stroke:violet;stroke-width:4\"/><line x1=\"600\" y1=\"150\" x2=\"601.0\" y2=\"150.0\" stroke-linecap=\"round\" style=\"stroke:violet;stroke-width:4\"/><line x1=\"600\" y1=\"200\" x2=\"601.0\" y2=\"200.0\" stroke-linecap=\"round\" style=\"stroke:red;stroke-width:4\"/><line x1=\"600\" y1=\"250\" x2=\"601.0\" y2=\"250.0\" stroke-linecap=\"round\" style=\"stroke:violet;stroke-width:4\"/><line x1=\"600\" y1=\"300\" x2=\"601.0\" y2=\"300.0\" stroke-linecap=\"round\" style=\"stroke:violet;stroke-width:4\"/><line x1=\"600\" y1=\"350\" x2=\"601.0\" y2=\"350.0\" stroke-linecap=\"round\" style=\"stroke:blue;stroke-width:4\"/><line x1=\"600\" y1=\"400\" x2=\"601.0\" y2=\"400.0\" stroke-linecap=\"round\" style=\"stroke:blue;stroke-width:4\"/><line x1=\"600\" y1=\"450\" x2=\"601.0\" y2=\"450.0\" stroke-linecap=\"round\" style=\"stroke:violet;stroke-width:4\"/><line x1=\"650\" y1=\"50\" x2=\"651.0\" y2=\"50.0\" stroke-linecap=\"round\" style=\"stroke:red;stroke-width:4\"/><line x1=\"650\" y1=\"100\" x2=\"651.0\" y2=\"100.0\" stroke-linecap=\"round\" style=\"stroke:blue;stroke-width:4\"/><line x1=\"650\" y1=\"150\" x2=\"651.0\" y2=\"150.0\" stroke-linecap=\"round\" style=\"stroke:green;stroke-width:4\"/><line x1=\"650\" y1=\"200\" x2=\"651.0\" y2=\"200.0\" stroke-linecap=\"round\" style=\"stroke:yellow;stroke-width:4\"/><line x1=\"650\" y1=\"250\" x2=\"651.0\" y2=\"250.0\" stroke-linecap=\"round\" style=\"stroke:yellow;stroke-width:4\"/><line x1=\"650\" y1=\"300\" x2=\"651.0\" y2=\"300.0\" stroke-linecap=\"round\" style=\"stroke:red;stroke-width:4\"/><line x1=\"650\" y1=\"350\" x2=\"651.0\" y2=\"350.0\" stroke-linecap=\"round\" style=\"stroke:green;stroke-width:4\"/><line x1=\"650\" y1=\"400\" x2=\"651.0\" y2=\"400.0\" stroke-linecap=\"round\" style=\"stroke:yellow;stroke-width:4\"/><line x1=\"650\" y1=\"450\" x2=\"651.0\" y2=\"450.0\" stroke-linecap=\"round\" style=\"stroke:blue;stroke-width:4\"/><line x1=\"700\" y1=\"50\" x2=\"701.0\" y2=\"50.0\" stroke-linecap=\"round\" style=\"stroke:violet;stroke-width:4\"/><line x1=\"700\" y1=\"100\" x2=\"701.0\" y2=\"100.0\" stroke-linecap=\"round\" style=\"stroke:violet;stroke-width:4\"/><line x1=\"700\" y1=\"150\" x2=\"701.0\" y2=\"150.0\" stroke-linecap=\"round\" style=\"stroke:blue;stroke-width:4\"/><line x1=\"700\" y1=\"200\" x2=\"701.0\" y2=\"200.0\" stroke-linecap=\"round\" style=\"stroke:yellow;stroke-width:4\"/><line x1=\"700\" y1=\"250\" x2=\"701.0\" y2=\"250.0\" stroke-linecap=\"round\" style=\"stroke:red;stroke-width:4\"/><line x1=\"700\" y1=\"300\" x2=\"701.0\" y2=\"300.0\" stroke-linecap=\"round\" style=\"stroke:blue;stroke-width:4\"/><line x1=\"700\" y1=\"350\" x2=\"701.0\" y2=\"350.0\" stroke-linecap=\"round\" style=\"stroke:blue;stroke-width:4\"/><line x1=\"700\" y1=\"400\" x2=\"701.0\" y2=\"400.0\" stroke-linecap=\"round\" style=\"stroke:red;stroke-width:4\"/><line x1=\"700\" y1=\"450\" x2=\"701.0\" y2=\"450.0\" stroke-linecap=\"round\" style=\"stroke:blue;stroke-width:4\"/><line x1=\"750\" y1=\"50\" x2=\"751.0\" y2=\"50.0\" stroke-linecap=\"round\" style=\"stroke:yellow;stroke-width:4\"/><line x1=\"750\" y1=\"100\" x2=\"751.0\" y2=\"100.0\" stroke-linecap=\"round\" style=\"stroke:violet;stroke-width:4\"/><line x1=\"750\" y1=\"150\" x2=\"751.0\" y2=\"150.0\" stroke-linecap=\"round\" style=\"stroke:yellow;stroke-width:4\"/><line x1=\"750\" y1=\"200\" x2=\"751.0\" y2=\"200.0\" stroke-linecap=\"round\" style=\"stroke:green;stroke-width:4\"/><line x1=\"750\" y1=\"250\" x2=\"751.0\" y2=\"250.0\" stroke-linecap=\"round\" style=\"stroke:green;stroke-width:4\"/><line x1=\"750\" y1=\"300\" x2=\"751.0\" y2=\"300.0\" stroke-linecap=\"round\" style=\"stroke:green;stroke-width:4\"/><line x1=\"750\" y1=\"350\" x2=\"751.0\" y2=\"350.0\" stroke-linecap=\"round\" style=\"stroke:yellow;stroke-width:4\"/><line x1=\"750\" y1=\"400\" x2=\"751.0\" y2=\"400.0\" stroke-linecap=\"round\" style=\"stroke:green;stroke-width:4\"/><line x1=\"750\" y1=\"450\" x2=\"751.0\" y2=\"450.0\" stroke-linecap=\"round\" style=\"stroke:green;stroke-width:4\"/>\n",
              "        <g visibility=visible transform=\"rotate(90,751.0,450.0) translate(733.0, 432.0)\">\n",
              "<path style=\" stroke:none;fill-rule:evenodd;fill:green;fill-opacity:1;\" d=\"M 18.214844 0.632812 C 16.109375 1.800781 15.011719 4.074219 15.074219 7.132812 L 15.085938 7.652344 L 14.785156 7.496094 C 13.476562 6.824219 11.957031 6.671875 10.40625 7.066406 C 8.46875 7.550781 6.515625 9.15625 4.394531 11.992188 C 3.0625 13.777344 2.679688 14.636719 3.042969 15.027344 L 3.15625 15.152344 L 3.519531 15.152344 C 4.238281 15.152344 4.828125 14.886719 8.1875 13.039062 C 9.386719 12.378906 10.371094 11.839844 10.378906 11.839844 C 10.386719 11.839844 10.355469 11.929688 10.304688 12.035156 C 9.832031 13.09375 9.257812 14.820312 8.96875 16.078125 C 7.914062 20.652344 8.617188 24.53125 11.070312 27.660156 C 11.351562 28.015625 11.363281 27.914062 10.972656 28.382812 C 8.925781 30.84375 7.945312 33.28125 8.238281 35.1875 C 8.289062 35.527344 8.28125 35.523438 8.917969 35.523438 C 10.941406 35.523438 13.074219 34.207031 15.136719 31.6875 C 15.359375 31.417969 15.328125 31.425781 15.5625 31.574219 C 16.292969 32.042969 18.023438 32.964844 18.175781 32.964844 C 18.335938 32.964844 19.941406 32.210938 20.828125 31.71875 C 20.996094 31.625 21.136719 31.554688 21.136719 31.558594 C 21.203125 31.664062 21.898438 32.414062 22.222656 32.730469 C 23.835938 34.300781 25.5625 35.132812 27.582031 35.300781 C 27.90625 35.328125 27.9375 35.308594 28.007812 34.984375 C 28.382812 33.242188 27.625 30.925781 25.863281 28.425781 L 25.542969 27.96875 L 25.699219 27.785156 C 28.945312 23.960938 29.132812 18.699219 26.257812 11.96875 L 26.207031 11.84375 L 27.945312 12.703125 C 31.53125 14.476562 32.316406 14.800781 33.03125 14.800781 C 33.976562 14.800781 33.78125 13.9375 32.472656 12.292969 C 28.519531 7.355469 25.394531 5.925781 21.921875 7.472656 L 21.558594 7.636719 L 21.578125 7.542969 C 21.699219 6.992188 21.761719 5.742188 21.699219 5.164062 C 21.496094 3.296875 20.664062 1.964844 19.003906 0.855469 C 18.480469 0.503906 18.457031 0.5 18.214844 0.632812\"/>\n",
              "</g>\n",
              "      </svg>\n",
              "    "
            ]
          },
          "metadata": {}
        }
      ]
    }
  ],
  "metadata": {
    "colab": {
      "provenance": [],
      "authorship_tag": "ABX9TyM5gqvUJEW2sNeUG6K4qEfx",
      "include_colab_link": true
    },
    "kernelspec": {
      "display_name": "Python 3",
      "name": "python3"
    },
    "language_info": {
      "name": "python"
    }
  },
  "nbformat": 4,
  "nbformat_minor": 0
}