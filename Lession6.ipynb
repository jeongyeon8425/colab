{
  "nbformat": 4,
  "nbformat_minor": 0,
  "metadata": {
    "colab": {
      "provenance": [],
      "authorship_tag": "ABX9TyMN5XNm21etkb1Mh2sH/+97",
      "include_colab_link": true
    },
    "kernelspec": {
      "name": "python3",
      "display_name": "Python 3"
    },
    "language_info": {
      "name": "python"
    }
  },
  "cells": [
    {
      "cell_type": "markdown",
      "metadata": {
        "id": "view-in-github",
        "colab_type": "text"
      },
      "source": [
        "<a href=\"https://colab.research.google.com/github/jeongyeon8425/colab/blob/main/Lession6.ipynb\" target=\"_parent\"><img src=\"https://colab.research.google.com/assets/colab-badge.svg\" alt=\"Open In Colab\"/></a>"
      ]
    },
    {
      "cell_type": "markdown",
      "source": [
        "반복문"
      ],
      "metadata": {
        "id": "c36wDCicvqy1"
      }
    },
    {
      "cell_type": "code",
      "execution_count": 1,
      "metadata": {
        "colab": {
          "base_uri": "https://localhost:8080/"
        },
        "id": "fYMESXY-u7eG",
        "outputId": "e87bb9aa-abb8-442d-ff78-4dfa27be190a"
      },
      "outputs": [
        {
          "output_type": "stream",
          "name": "stdout",
          "text": [
            "난새처음 파이썬은 재미있습니다^_^\n",
            "난새처음 파이썬은 재미있습니다^_^\n",
            "난새처음 파이썬은 재미있습니다^_^\n"
          ]
        }
      ],
      "source": [
        "for i in range(3) :\n",
        "  print(\"난생처음 파이썬은 재미있습니다^_^\")"
      ]
    },
    {
      "cell_type": "code",
      "source": [
        "myList = [\"짜장면\", \"김밥\", \"라면\"]\n",
        "for i in myList :\n",
        "  print(i)"
      ],
      "metadata": {
        "colab": {
          "base_uri": "https://localhost:8080/"
        },
        "id": "zbERrvhZwJmr",
        "outputId": "98a74f68-e39c-410f-a9a7-196705018e67"
      },
      "execution_count": 2,
      "outputs": [
        {
          "output_type": "stream",
          "name": "stdout",
          "text": [
            "짜장면\n",
            "김밥\n",
            "라면\n"
          ]
        }
      ]
    },
    {
      "cell_type": "code",
      "source": [
        "for i in range(2, 8, 2):\n",
        "  print(i)"
      ],
      "metadata": {
        "colab": {
          "base_uri": "https://localhost:8080/"
        },
        "id": "KEl0qFvGw4rc",
        "outputId": "04dbcf7b-c55d-467a-81c1-0e871c069095"
      },
      "execution_count": 5,
      "outputs": [
        {
          "output_type": "stream",
          "name": "stdout",
          "text": [
            "2\n",
            "4\n",
            "6\n"
          ]
        }
      ]
    },
    {
      "cell_type": "code",
      "source": [
        "sum= 0\n",
        "for i in range(1, 100, 2) :\n",
        "  sum = sum + i"
      ],
      "metadata": {
        "id": "vsF5yGbIxpyT"
      },
      "execution_count": null,
      "outputs": []
    },
    {
      "cell_type": "markdown",
      "source": [
        "sum = 1-3+5-7+9 ..+99"
      ],
      "metadata": {
        "id": "2KMxEKZsyMcS"
      }
    },
    {
      "cell_type": "code",
      "source": [
        "flag = 1\n",
        "sum = 0\n",
        "for i in range(1, 100, 2):\n",
        "  if flag == 1 :\n",
        "    sum = sum + i\n",
        "    flag = flag * - 1\n",
        "  else:\n",
        "    sum = sum - i\n",
        "    flag = flag * - 1\n",
        "print(sum)"
      ],
      "metadata": {
        "colab": {
          "base_uri": "https://localhost:8080/"
        },
        "id": "vCLOZzWnySl7",
        "outputId": "b22cd413-63cf-42e8-cf74-06fbb76c1a9d"
      },
      "execution_count": 6,
      "outputs": [
        {
          "output_type": "stream",
          "name": "stdout",
          "text": [
            "-50\n"
          ]
        }
      ]
    },
    {
      "cell_type": "code",
      "source": [
        "fact = 1 \n",
        "friends_num = 5\n",
        "\n",
        "for i in range(1, friends_num + 1, 1):\n",
        "  fact = fact * i\n",
        "\n",
        "print(\"A, B, C, D, E 학생들을 순서대로 세우는 경우의 수 : \", fact)"
      ],
      "metadata": {
        "colab": {
          "base_uri": "https://localhost:8080/"
        },
        "id": "UpGhzY_502E1",
        "outputId": "13e81fdd-0089-4666-fbe2-fad8131b6277"
      },
      "execution_count": 7,
      "outputs": [
        {
          "output_type": "stream",
          "name": "stdout",
          "text": [
            "A, B, C, D, E 학생들을 순서대로 세우는 경우의 수 :  120\n"
          ]
        }
      ]
    },
    {
      "cell_type": "markdown",
      "source": [
        "합계 구하기"
      ],
      "metadata": {
        "id": "hJVMmD5K1s70"
      }
    },
    {
      "cell_type": "code",
      "source": [
        "hap = 0\n",
        "\n",
        "for i in range(1, 11, 1):\n",
        "  hap = hap + i\n",
        "\n",
        "print(\"1에서 10까지 합 : \", hap) "
      ],
      "metadata": {
        "colab": {
          "base_uri": "https://localhost:8080/"
        },
        "id": "kL9KTfnu1uvq",
        "outputId": "8f536978-7bad-4f9c-c2f9-12f5d432af92"
      },
      "execution_count": 9,
      "outputs": [
        {
          "output_type": "stream",
          "name": "stdout",
          "text": [
            "1에서 10까지 합 :  55\n"
          ]
        }
      ]
    },
    {
      "cell_type": "markdown",
      "source": [
        "중첩 for문"
      ],
      "metadata": {
        "id": "EsuphETN3fOa"
      }
    },
    {
      "cell_type": "code",
      "source": [
        "for i in range(3) :\n",
        "    for k in range(2) :\n",
        "      print(\"난생처음은 쉽습니다.^^(1값 :\", i,\",k값:\",k,\")\")"
      ],
      "metadata": {
        "colab": {
          "base_uri": "https://localhost:8080/"
        },
        "id": "KHgXnyB13hIs",
        "outputId": "46e1b215-a9db-42da-98da-f79ac7885627"
      },
      "execution_count": 11,
      "outputs": [
        {
          "output_type": "stream",
          "name": "stdout",
          "text": [
            "난생처음은 쉽습니다.^^(1값 : 0 ,k값: 0 )\n",
            "난생처음은 쉽습니다.^^(1값 : 0 ,k값: 1 )\n",
            "난생처음은 쉽습니다.^^(1값 : 1 ,k값: 0 )\n",
            "난생처음은 쉽습니다.^^(1값 : 1 ,k값: 1 )\n",
            "난생처음은 쉽습니다.^^(1값 : 2 ,k값: 0 )\n",
            "난생처음은 쉽습니다.^^(1값 : 2 ,k값: 1 )\n"
          ]
        }
      ]
    },
    {
      "cell_type": "code",
      "source": [
        "for i in range(2) :\n",
        "  for k in range(3) :\n",
        "    print(\"중첩 for문입니다\")"
      ],
      "metadata": {
        "colab": {
          "base_uri": "https://localhost:8080/"
        },
        "id": "dBEpDBeK4LNj",
        "outputId": "1eff8bb3-8cbb-4814-df2d-b85feef75288"
      },
      "execution_count": 13,
      "outputs": [
        {
          "output_type": "stream",
          "name": "stdout",
          "text": [
            "중첩 for문입니다\n",
            "중첩 for문입니다\n",
            "중첩 for문입니다\n",
            "중첩 for문입니다\n",
            "중첩 for문입니다\n",
            "중첩 for문입니다\n"
          ]
        }
      ]
    },
    {
      "cell_type": "code",
      "source": [],
      "metadata": {
        "id": "PiRd1heA4T2x"
      },
      "execution_count": null,
      "outputs": []
    }
  ]
}