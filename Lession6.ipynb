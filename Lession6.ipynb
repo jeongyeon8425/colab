{
  "nbformat": 4,
  "nbformat_minor": 0,
  "metadata": {
    "colab": {
      "provenance": [],
      "authorship_tag": "ABX9TyPrYF1BE4CUAUXSgiVGQp6L",
      "include_colab_link": true
    },
    "kernelspec": {
      "name": "python3",
      "display_name": "Python 3"
    },
    "language_info": {
      "name": "python"
    }
  },
  "cells": [
    {
      "cell_type": "markdown",
      "metadata": {
        "id": "view-in-github",
        "colab_type": "text"
      },
      "source": [
        "<a href=\"https://colab.research.google.com/github/jeongyeon8425/colab/blob/main/Lession6.ipynb\" target=\"_parent\"><img src=\"https://colab.research.google.com/assets/colab-badge.svg\" alt=\"Open In Colab\"/></a>"
      ]
    },
    {
      "cell_type": "markdown",
      "source": [
        "반복문"
      ],
      "metadata": {
        "id": "c36wDCicvqy1"
      }
    },
    {
      "cell_type": "code",
      "execution_count": null,
      "metadata": {
        "colab": {
          "base_uri": "https://localhost:8080/"
        },
        "id": "fYMESXY-u7eG",
        "outputId": "e87bb9aa-abb8-442d-ff78-4dfa27be190a"
      },
      "outputs": [
        {
          "output_type": "stream",
          "name": "stdout",
          "text": [
            "난새처음 파이썬은 재미있습니다^_^\n",
            "난새처음 파이썬은 재미있습니다^_^\n",
            "난새처음 파이썬은 재미있습니다^_^\n"
          ]
        }
      ],
      "source": [
        "for i in range(3) :\n",
        "  print(\"난생처음 파이썬은 재미있습니다^_^\")"
      ]
    },
    {
      "cell_type": "code",
      "source": [
        "myList = [\"짜장면\", \"김밥\", \"라면\"]\n",
        "for i in myList :\n",
        "  print(i)"
      ],
      "metadata": {
        "colab": {
          "base_uri": "https://localhost:8080/"
        },
        "id": "zbERrvhZwJmr",
        "outputId": "98a74f68-e39c-410f-a9a7-196705018e67"
      },
      "execution_count": null,
      "outputs": [
        {
          "output_type": "stream",
          "name": "stdout",
          "text": [
            "짜장면\n",
            "김밥\n",
            "라면\n"
          ]
        }
      ]
    },
    {
      "cell_type": "code",
      "source": [
        "for i in range(2, 8, 2):\n",
        "  print(i)"
      ],
      "metadata": {
        "colab": {
          "base_uri": "https://localhost:8080/"
        },
        "id": "KEl0qFvGw4rc",
        "outputId": "04dbcf7b-c55d-467a-81c1-0e871c069095"
      },
      "execution_count": null,
      "outputs": [
        {
          "output_type": "stream",
          "name": "stdout",
          "text": [
            "2\n",
            "4\n",
            "6\n"
          ]
        }
      ]
    },
    {
      "cell_type": "code",
      "source": [
        "sum= 0\n",
        "for i in range(1, 100, 2) :\n",
        "  sum = sum + i"
      ],
      "metadata": {
        "id": "vsF5yGbIxpyT"
      },
      "execution_count": null,
      "outputs": []
    },
    {
      "cell_type": "markdown",
      "source": [
        "sum = 1-3+5-7+9 ..+99"
      ],
      "metadata": {
        "id": "2KMxEKZsyMcS"
      }
    },
    {
      "cell_type": "code",
      "source": [
        "flag = 1\n",
        "sum = 0\n",
        "for i in range(1, 100, 2):\n",
        "  if flag == 1 :\n",
        "    sum = sum + i\n",
        "    flag = flag * - 1\n",
        "  else:\n",
        "    sum = sum - i\n",
        "    flag = flag * - 1\n",
        "print(sum)"
      ],
      "metadata": {
        "colab": {
          "base_uri": "https://localhost:8080/"
        },
        "id": "vCLOZzWnySl7",
        "outputId": "b22cd413-63cf-42e8-cf74-06fbb76c1a9d"
      },
      "execution_count": null,
      "outputs": [
        {
          "output_type": "stream",
          "name": "stdout",
          "text": [
            "-50\n"
          ]
        }
      ]
    },
    {
      "cell_type": "code",
      "source": [
        "fact = 1 \n",
        "friends_num = 5\n",
        "\n",
        "for i in range(1, friends_num + 1, 1):\n",
        "  fact = fact * i\n",
        "\n",
        "print(\"A, B, C, D, E 학생들을 순서대로 세우는 경우의 수 : \", fact)"
      ],
      "metadata": {
        "colab": {
          "base_uri": "https://localhost:8080/"
        },
        "id": "UpGhzY_502E1",
        "outputId": "13e81fdd-0089-4666-fbe2-fad8131b6277"
      },
      "execution_count": null,
      "outputs": [
        {
          "output_type": "stream",
          "name": "stdout",
          "text": [
            "A, B, C, D, E 학생들을 순서대로 세우는 경우의 수 :  120\n"
          ]
        }
      ]
    },
    {
      "cell_type": "markdown",
      "source": [
        "합계 구하기"
      ],
      "metadata": {
        "id": "hJVMmD5K1s70"
      }
    },
    {
      "cell_type": "code",
      "source": [
        "hap = 0\n",
        "\n",
        "for i in range(1, 11, 1):\n",
        "  hap = hap + i\n",
        "\n",
        "print(\"1에서 10까지 합 : \", hap) "
      ],
      "metadata": {
        "colab": {
          "base_uri": "https://localhost:8080/"
        },
        "id": "kL9KTfnu1uvq",
        "outputId": "8f536978-7bad-4f9c-c2f9-12f5d432af92"
      },
      "execution_count": null,
      "outputs": [
        {
          "output_type": "stream",
          "name": "stdout",
          "text": [
            "1에서 10까지 합 :  55\n"
          ]
        }
      ]
    },
    {
      "cell_type": "markdown",
      "source": [
        "중첩 for문"
      ],
      "metadata": {
        "id": "EsuphETN3fOa"
      }
    },
    {
      "cell_type": "code",
      "source": [
        "for i in range(3) :\n",
        "    for k in range(2) :\n",
        "      print(\"난생처음은 쉽습니다.^^(1값 :\", i,\",k값:\",k,\")\")"
      ],
      "metadata": {
        "colab": {
          "base_uri": "https://localhost:8080/"
        },
        "id": "KHgXnyB13hIs",
        "outputId": "46e1b215-a9db-42da-98da-f79ac7885627"
      },
      "execution_count": null,
      "outputs": [
        {
          "output_type": "stream",
          "name": "stdout",
          "text": [
            "난생처음은 쉽습니다.^^(1값 : 0 ,k값: 0 )\n",
            "난생처음은 쉽습니다.^^(1값 : 0 ,k값: 1 )\n",
            "난생처음은 쉽습니다.^^(1값 : 1 ,k값: 0 )\n",
            "난생처음은 쉽습니다.^^(1값 : 1 ,k값: 1 )\n",
            "난생처음은 쉽습니다.^^(1값 : 2 ,k값: 0 )\n",
            "난생처음은 쉽습니다.^^(1값 : 2 ,k값: 1 )\n"
          ]
        }
      ]
    },
    {
      "cell_type": "code",
      "source": [
        "for i in range(2) :\n",
        "  for k in range(3) :\n",
        "    print(\"중첩 for문입니다\")"
      ],
      "metadata": {
        "colab": {
          "base_uri": "https://localhost:8080/"
        },
        "id": "dBEpDBeK4LNj",
        "outputId": "1eff8bb3-8cbb-4814-df2d-b85feef75288"
      },
      "execution_count": null,
      "outputs": [
        {
          "output_type": "stream",
          "name": "stdout",
          "text": [
            "중첩 for문입니다\n",
            "중첩 for문입니다\n",
            "중첩 for문입니다\n",
            "중첩 for문입니다\n",
            "중첩 for문입니다\n",
            "중첩 for문입니다\n"
          ]
        }
      ]
    },
    {
      "cell_type": "markdown",
      "source": [
        "구구단 계산기 만들기"
      ],
      "metadata": {
        "id": "ar4jUPTf-69w"
      }
    },
    {
      "cell_type": "code",
      "source": [
        "i = 0\n",
        "j = 0\n",
        "\n",
        "for i in range(2,10) :\n",
        "  for j in range(1, 10) :\n",
        "    print(i, \"X\", j, \"=\", i * j)\n",
        "  print(\"\")"
      ],
      "metadata": {
        "id": "PiRd1heA4T2x",
        "colab": {
          "base_uri": "https://localhost:8080/"
        },
        "outputId": "f489acc3-b5d1-4df2-eeb2-88bee427cfb2"
      },
      "execution_count": 3,
      "outputs": [
        {
          "output_type": "stream",
          "name": "stdout",
          "text": [
            "2 X 1 = 2\n",
            "2 X 2 = 4\n",
            "2 X 3 = 6\n",
            "2 X 4 = 8\n",
            "2 X 5 = 10\n",
            "2 X 6 = 12\n",
            "2 X 7 = 14\n",
            "2 X 8 = 16\n",
            "2 X 9 = 18\n",
            "\n",
            "3 X 1 = 3\n",
            "3 X 2 = 6\n",
            "3 X 3 = 9\n",
            "3 X 4 = 12\n",
            "3 X 5 = 15\n",
            "3 X 6 = 18\n",
            "3 X 7 = 21\n",
            "3 X 8 = 24\n",
            "3 X 9 = 27\n",
            "\n",
            "4 X 1 = 4\n",
            "4 X 2 = 8\n",
            "4 X 3 = 12\n",
            "4 X 4 = 16\n",
            "4 X 5 = 20\n",
            "4 X 6 = 24\n",
            "4 X 7 = 28\n",
            "4 X 8 = 32\n",
            "4 X 9 = 36\n",
            "\n",
            "5 X 1 = 5\n",
            "5 X 2 = 10\n",
            "5 X 3 = 15\n",
            "5 X 4 = 20\n",
            "5 X 5 = 25\n",
            "5 X 6 = 30\n",
            "5 X 7 = 35\n",
            "5 X 8 = 40\n",
            "5 X 9 = 45\n",
            "\n",
            "6 X 1 = 6\n",
            "6 X 2 = 12\n",
            "6 X 3 = 18\n",
            "6 X 4 = 24\n",
            "6 X 5 = 30\n",
            "6 X 6 = 36\n",
            "6 X 7 = 42\n",
            "6 X 8 = 48\n",
            "6 X 9 = 54\n",
            "\n",
            "7 X 1 = 7\n",
            "7 X 2 = 14\n",
            "7 X 3 = 21\n",
            "7 X 4 = 28\n",
            "7 X 5 = 35\n",
            "7 X 6 = 42\n",
            "7 X 7 = 49\n",
            "7 X 8 = 56\n",
            "7 X 9 = 63\n",
            "\n",
            "8 X 1 = 8\n",
            "8 X 2 = 16\n",
            "8 X 3 = 24\n",
            "8 X 4 = 32\n",
            "8 X 5 = 40\n",
            "8 X 6 = 48\n",
            "8 X 7 = 56\n",
            "8 X 8 = 64\n",
            "8 X 9 = 72\n",
            "\n",
            "9 X 1 = 9\n",
            "9 X 2 = 18\n",
            "9 X 3 = 27\n",
            "9 X 4 = 36\n",
            "9 X 5 = 45\n",
            "9 X 6 = 54\n",
            "9 X 7 = 63\n",
            "9 X 8 = 72\n",
            "9 X 9 = 81\n",
            "\n"
          ]
        }
      ]
    },
    {
      "cell_type": "markdown",
      "source": [
        "입력한 두 숫자의 합계를 반복 계산 (실수 입력 가능)"
      ],
      "metadata": {
        "id": "O9q6l47ZAxdD"
      }
    },
    {
      "cell_type": "code",
      "source": [
        "while True :\n",
        "  num1 = input(\"숫자1 입력 => \")\n",
        "  if num1 == \"0\" : break\n",
        "  num2 = input(\"숫자2 입력 => \")\n",
        "  result = float(num1) + float(num2)\n",
        "  print(num1, \"+\", num2, \"=\", result)"
      ],
      "metadata": {
        "colab": {
          "base_uri": "https://localhost:8080/"
        },
        "id": "3SjPvshUC8-4",
        "outputId": "e716d687-9adc-430f-a528-03a8ef96a194"
      },
      "execution_count": 6,
      "outputs": [
        {
          "name": "stdout",
          "output_type": "stream",
          "text": [
            "숫자1 입력 => 0\n"
          ]
        }
      ]
    },
    {
      "cell_type": "markdown",
      "source": [
        "주사위 게임( 몇 번을 던져야 같은 숫자가 나오냐~? )"
      ],
      "metadata": {
        "id": "8VZVxUy0DrZa"
      }
    },
    {
      "cell_type": "code",
      "source": [
        "import random\n",
        "count = 0\n",
        "while True :\n",
        "  r1 = random.randint(1,6)\n",
        "  r2 = random.randint(1,6)\n",
        "  r3 = random.randint(1,6)\n",
        "  count = count + 1\n",
        "  if r1 == r2 == r3 : break \n",
        "print(\"3개의 주사위는 모두\", r1, \"나왔다.\")\n",
        "print(\"같은 숫자가 나오기까지\", count, \"번 던졌습니다.\")"
      ],
      "metadata": {
        "colab": {
          "base_uri": "https://localhost:8080/"
        },
        "id": "tzk9W_0RDuNK",
        "outputId": "a1b3a412-50aa-46b3-a988-4f546970e406"
      },
      "execution_count": 12,
      "outputs": [
        {
          "output_type": "stream",
          "name": "stdout",
          "text": [
            "3개의 주사위는 모두 1 나왔다.\n",
            "같은 숫자가 나오기까지 5 번 던졌습니다.\n"
          ]
        }
      ]
    },
    {
      "cell_type": "markdown",
      "source": [
        "컴퓨터가 생각한 숫자 맞히기 게임"
      ],
      "metadata": {
        "id": "uuEiyGJmGU4D"
      }
    },
    {
      "cell_type": "code",
      "source": [
        "import random\n",
        "\n",
        "computer, user = 0,0\n",
        "\n",
        "for i in range(1,11) :\n",
        "  couputer = random.randint(1, 5)\n",
        "  print(\"게임\", i, \"회\", end='')\n",
        "  user = int(input(\"컴퓨터가 생각한 숫자는 ? \"))\n",
        "\n",
        "  if computer == user :\n",
        "    print(\"맞혔네요. 축하합니다~!!\")\n",
        "    break\n",
        "  else :\n",
        "    print(\"으앙 아까워요\", computer, \"였는데요ㅠ 다시 해보세요!\")\n",
        "    continue\n",
        "print(\"게임을 마칩니다\")"
      ],
      "metadata": {
        "colab": {
          "base_uri": "https://localhost:8080/"
        },
        "id": "H2leGiZHGi5y",
        "outputId": "09d248ab-7fc1-4ed9-9a90-a6ea93405479"
      },
      "execution_count": 14,
      "outputs": [
        {
          "output_type": "stream",
          "name": "stdout",
          "text": [
            "게임 1 회컴퓨터가 생각한 숫자는 ? 4\n",
            "으앙 아까워요 0 였는데요ㅠ 다시 해보세요!\n",
            "게임 2 회컴퓨터가 생각한 숫자는 ? 0\n",
            "맞혔네요. 축하합니다~!!\n",
            "게임을 마칩니다\n"
          ]
        }
      ]
    },
    {
      "cell_type": "markdown",
      "source": [
        "야구게임"
      ],
      "metadata": {
        "id": "0DjQniOgKuYc"
      }
    },
    {
      "cell_type": "code",
      "source": [
        "import random\n",
        "com_list = [1,2,3,4,5,6,7,8,9]\n",
        "com_num, usr_num = [], []\n",
        "\n",
        "def usr_fun() :\n",
        "  usr = input(\"3개의 숫자를 입력(1~9까지) ==> \")\n",
        "  for i in range(0,5,2) :\n",
        "    usr_num.append(int(usr[i]))\n",
        "\n",
        "#컴퓨터 - 3개의 중복되지 않는 숫자 만들기\n",
        "for i in range(3) :\n",
        "  r = random.choice(com_list)\n",
        "  com_list.remove(r)\n",
        "  com_num.append(r)\n",
        "\n",
        "print(\"**야구 게임 **\")\n",
        " #스트라이크 및 볼 판정-----------------------------\n",
        "strike, ball = 0, 0\n",
        "while True :\n",
        "  usr_num.clear()\n",
        "  usr_fun()\n",
        "  for i in range(3) :\n",
        "    if com_num[i] == usr_num[i] :\n",
        "      strike = strike + 1\n",
        "    elif usr_num[i] in com_num :\n",
        "      ball = ball + 1\n",
        "  print(strike,\"스트라이크\", \" : \", ball, \"볼\")\n",
        "  if strike == 3 :\n",
        "    print(\"축하해용\")\n",
        "    break\n",
        "strike. ball = 0, 0"
      ],
      "metadata": {
        "colab": {
          "base_uri": "https://localhost:8080/"
        },
        "id": "E41pAZp1Kvls",
        "outputId": "09e1e0e5-af29-4b6c-b23f-7837eefcde57"
      },
      "execution_count": null,
      "outputs": [
        {
          "output_type": "stream",
          "name": "stdout",
          "text": [
            "**야구 게임 **\n",
            "3개의 숫자를 입력(1~9까지) ==> 1 2 3\n",
            "0 스트라이크  :  0 볼\n",
            "3개의 숫자를 입력(1~9까지) ==> 4 5 6\n",
            "0 스트라이크  :  2 볼\n",
            "3개의 숫자를 입력(1~9까지) ==> 7 8 9\n",
            "0 스트라이크  :  3 볼\n",
            "3개의 숫자를 입력(1~9까지) ==> 2 5 7\n",
            "0 스트라이크  :  4 볼\n",
            "3개의 숫자를 입력(1~9까지) ==> 3 5 1\n",
            "0 스트라이크  :  5 볼\n"
          ]
        }
      ]
    }
  ]
}