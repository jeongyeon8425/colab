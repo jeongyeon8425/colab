{
  "nbformat": 4,
  "nbformat_minor": 0,
  "metadata": {
    "colab": {
      "name": "Lession4.ipynb",
      "provenance": [],
      "collapsed_sections": [],
      "authorship_tag": "ABX9TyPxKGU3LJd9Y7OSj0oVZEOo",
      "include_colab_link": true
    },
    "kernelspec": {
      "name": "python3",
      "display_name": "Python 3"
    },
    "language_info": {
      "name": "python"
    }
  },
  "cells": [
    {
      "cell_type": "markdown",
      "metadata": {
        "id": "view-in-github",
        "colab_type": "text"
      },
      "source": [
        "<a href=\"https://colab.research.google.com/github/jeongyeon8425/colab/blob/main/Lession4.ipynb\" target=\"_parent\"><img src=\"https://colab.research.google.com/assets/colab-badge.svg\" alt=\"Open In Colab\"/></a>"
      ]
    },
    {
      "cell_type": "markdown",
      "source": [
        "데이터 타입 예제"
      ],
      "metadata": {
        "id": "rf_jhcbFN4yo"
      }
    },
    {
      "cell_type": "code",
      "execution_count": null,
      "metadata": {
        "colab": {
          "base_uri": "https://localhost:8080/"
        },
        "id": "Di3t7pOLNwyx",
        "outputId": "96a10670-df69-460a-da85-5f360d365856"
      },
      "outputs": [
        {
          "output_type": "stream",
          "name": "stdout",
          "text": [
            "var1의 타입은 <class 'int'>\n",
            "var2의 타입은 <class 'float'>\n",
            "var3의 타입은 <class 'str'>\n",
            "var4의 타입은 <class 'bool'>\n"
          ]
        }
      ],
      "source": [
        "var1 = 100\n",
        "var2 = 3.14\n",
        "var3 = \"안산공고\"\n",
        "var4 = True\n",
        "\n",
        "print(\"var1의 타입은\", type(var1))\n",
        "print(\"var2의 타입은\", type(var2))\n",
        "print(\"var3의 타입은\", type(var3))\n",
        "print(\"var4의 타입은\", type(var4))\n"
      ]
    },
    {
      "cell_type": "code",
      "source": [
        "str1 = input(\"문자열 입력 : \")\n",
        "print(\"입력된 문자열의 길이 : \", len(str1))\n",
        "print(\"입력된 문자열을 대문자로 변환 : \", str1.upper())\n",
        "print(\"입력된 문자열을 소문자로 변환 : \", str1.lower())\n",
        "print(\"입력된 문자열 중 ansan은 몇번 나오는지 : \", str1.count(\"ansan\")\n",
        "print(\"입력된 문자열은 대문자인가요?\", str1.isupper())\n",
        "print(\"입력된 문자열은 소문자인가요?\", str1.islower())"
      ],
      "metadata": {
        "colab": {
          "base_uri": "https://localhost:8080/",
          "height": 138
        },
        "id": "rB840soBgdeh",
        "outputId": "e6a061a1-751d-4a5d-de51-1f06c8166ec6"
      },
      "execution_count": 10,
      "outputs": [
        {
          "output_type": "error",
          "ename": "SyntaxError",
          "evalue": "ignored",
          "traceback": [
            "\u001b[0;36m  File \u001b[0;32m\"<ipython-input-10-406b74762d2e>\"\u001b[0;36m, line \u001b[0;32m6\u001b[0m\n\u001b[0;31m    print(\"입력된 문자열은 대문자인가요?\", str1.isupper())\u001b[0m\n\u001b[0m        ^\u001b[0m\n\u001b[0;31mSyntaxError\u001b[0m\u001b[0;31m:\u001b[0m invalid syntax\n"
          ]
        }
      ]
    },
    {
      "cell_type": "code",
      "source": [
        "lyrics=\"\"\"\n",
        "When I find myself in times of trouble\n",
        "Mother Mary comes to me\n",
        "Speaking words of wisdom let it be\n",
        "And in my hour of darkness\n",
        "She is standing right in front of me\n",
        "Speaking words of wisdom let it be\n",
        "\n",
        "Let it be let it be\n",
        "Let it be let it be\n",
        "Whisper words of wisdom let it be\n",
        "\n",
        "And when the broken-hearted people\n",
        "Living in the world agree\n",
        "There will be an answer let it be\n",
        "For though they may be parted\n",
        "There is still a chance that they will see\n",
        "There will be an answer let it be\n",
        "\n",
        "Let it be let it be\n",
        "Let it be let it be\n",
        "Yeah there will be an answer let it be\n",
        "Let it be let it be\n",
        "Let it be let it be\n",
        "Whisper words of wisdom let it be\n",
        "\n",
        "Let it be let it be\n",
        "Ah let it be yeah let it be\n",
        "Whisper words of wisdom let it be\n",
        "\n",
        "And when the night is cloudy\n",
        "There is still a light that shines on me\n",
        "Shine on until tomorrow let it be\n",
        "I wake up to the sound of music\n",
        "Mother Mary comes to me\n",
        "Speaking words of wisdom let it be\n",
        "\n",
        "Let it be let it be\n",
        "Let it be yeah let it be\n",
        "Oh there will be an answer let it be\n",
        "Let it be let it be\n",
        "Let it be yeah let it be\n",
        "Whisper words of wisdom let it be\n",
        "\"\"\"\n",
        "lyrics = lyrics.upper()\n",
        "count = lyrics.count(\"LET IT BE\")\n",
        "print(\"Let it be 노래에서 'Let it be' 라는 단어는 총 \", \\\n",
        "      count, \"번 나옵니다.\")"
      ],
      "metadata": {
        "colab": {
          "base_uri": "https://localhost:8080/"
        },
        "id": "jDWkFZCIhIOJ",
        "outputId": "8d4cd133-a903-4939-a848-5f06f0ef9b11"
      },
      "execution_count": 13,
      "outputs": [
        {
          "output_type": "stream",
          "name": "stdout",
          "text": [
            "Let it be 노래에서 'Let it be' 라는 단어는 총  36 번 나옵니다.\n"
          ]
        }
      ]
    },
    {
      "cell_type": "code",
      "source": [
        "lyrics=\"\"\"\n",
        "Yesterday\n",
        "all my troubles seemed\n",
        "so far away\n",
        "Now it looks as though\n",
        "they're here to stay\n",
        "Oh I believe in yesterday\n",
        "Suddenly\n",
        "I'm not half the man\n",
        "I used to be\n",
        "There's a shadow\n",
        "hanging over me\n",
        "Oh yesterday came suddenly\n",
        "Why she had to go\n",
        "I don't know she wouldn't say\n",
        "I said something wrong\n",
        "now I long for yesterday\n",
        "Yesterday\n",
        "love was such an easy\n",
        "game to play\n",
        "Now I need a place to hide away\n",
        "Oh I believe in yesterday\n",
        "Why she had to go\n",
        "I don't know she wouldn't say\n",
        "I said something wrong\n",
        "now I long for yesterday\n",
        "Yesterday\n",
        "love was such an easy\n",
        "game to play\n",
        "Now I need a place to hide away\n",
        "Oh I believe in yesterday\n",
        "Mm mm mm mm mm mm mm\n",
        "\"\"\"\n",
        "lyrics = lyrics.upper()\n",
        "count = lyrics.count(\"YESTERDAY\")\n",
        "print(\"Yesterday 노래에서 'Yesterday' 라는 단어는 총 \", \\\n",
        "      count, \"번 나옵니다.\")"
      ],
      "metadata": {
        "colab": {
          "base_uri": "https://localhost:8080/"
        },
        "id": "S9ciyKUZjyJi",
        "outputId": "f3d239d4-cf3b-42e8-cb30-1e400a44b353"
      },
      "execution_count": 12,
      "outputs": [
        {
          "output_type": "stream",
          "name": "stdout",
          "text": [
            "Yesterday 노래에서 'Yesterday' 라는 단어는 총  9 번 나옵니다.\n"
          ]
        }
      ]
    },
    {
      "cell_type": "markdown",
      "source": [
        "리스트 연습"
      ],
      "metadata": {
        "id": "DL_fvnqCmAwA"
      }
    },
    {
      "cell_type": "code",
      "source": [
        "myList = [\"안산공고\", \"컴퓨터\", 3, 1, 2022]\n",
        "#print(myList)\n",
        "print(myList[4])"
      ],
      "metadata": {
        "colab": {
          "base_uri": "https://localhost:8080/"
        },
        "id": "pbdEkOgdklxq",
        "outputId": "9194ce58-81b5-4d0a-fbfa-e3186866e9de"
      },
      "execution_count": 16,
      "outputs": [
        {
          "output_type": "stream",
          "name": "stdout",
          "text": [
            "2022\n"
          ]
        }
      ]
    },
    {
      "cell_type": "markdown",
      "source": [
        "문자열 예제"
      ],
      "metadata": {
        "id": "xYx1eUJcmsxB"
      }
    },
    {
      "cell_type": "code",
      "source": [
        "str1 = \"Ansan Technical High School\"\n",
        "print(str1)\n",
        "print(str1[16:20])"
      ],
      "metadata": {
        "colab": {
          "base_uri": "https://localhost:8080/"
        },
        "id": "Sj4pwYQmmgHx",
        "outputId": "03f342c4-a660-4a3a-dd12-e0deb6157fdf"
      },
      "execution_count": 21,
      "outputs": [
        {
          "output_type": "stream",
          "name": "stdout",
          "text": [
            "Ansan Technical High School\n",
            "High\n"
          ]
        }
      ]
    },
    {
      "cell_type": "markdown",
      "source": [
        " 반복문"
      ],
      "metadata": {
        "id": "YHCg5sm3nvXR"
      }
    },
    {
      "cell_type": "code",
      "source": [
        "while True :\n",
        "  str1 = input(\"문자열 입력 : \")\n",
        "  if str1 == \"q\" :\n",
        "    break\n",
        "  print(str1)"
      ],
      "metadata": {
        "colab": {
          "base_uri": "https://localhost:8080/"
        },
        "id": "JAb4x_s3oI1W",
        "outputId": "44636989-8270-49c2-cee9-3f1ce8c74749"
      },
      "execution_count": 29,
      "outputs": [
        {
          "name": "stdout",
          "output_type": "stream",
          "text": [
            "문자열 입력 : q\n"
          ]
        }
      ]
    },
    {
      "cell_type": "markdown",
      "source": [
        "문자열을 거꾸로 출력"
      ],
      "metadata": {
        "id": "TRXVuuyhrL6e"
      }
    },
    {
      "cell_type": "code",
      "source": [
        "singer = input(\"가수 이름을 입력 : \")\n",
        "singer_len = len(singer)\n",
        "r_singer =\"\"\n",
        "while singer_len > 0 :\n",
        "  r_singer = r_singer + singer[singer_len-1]\n",
        "  singer_len = singer_len - 1\n",
        "print(\"가수이름을 거꾸로 출력 : \", r_singer)"
      ],
      "metadata": {
        "colab": {
          "base_uri": "https://localhost:8080/"
        },
        "id": "ySb-4AqQrLko",
        "outputId": "2baaf4c7-7f7f-4811-d036-e07316897162"
      },
      "execution_count": 38,
      "outputs": [
        {
          "output_type": "stream",
          "name": "stdout",
          "text": [
            "가수 이름을 입력 : 트와이스\n",
            "가수이름을 거꾸로 출력 :  스이와트\n"
          ]
        }
      ]
    },
    {
      "cell_type": "code",
      "source": [
        "ss = \"트와이스\"\n",
        "print(\"원본 문자열 ==>\", ss)\n",
        "\n",
        "print(\"반대 문자열 ==>\", end='')\n",
        "print(ss[3],end=\"\")\n",
        "print(ss[2],end=\"\")\n",
        "print(ss[1],end=\"\")\n",
        "print(ss[0],end=\"\")"
      ],
      "metadata": {
        "colab": {
          "base_uri": "https://localhost:8080/"
        },
        "id": "Rxi5dKaPt-9A",
        "outputId": "409271b8-6650-439c-97e2-42eaa921948c"
      },
      "execution_count": 40,
      "outputs": [
        {
          "output_type": "stream",
          "name": "stdout",
          "text": [
            "원본 문자열 ==> 트와이스\n",
            "반대 문자열 ==>스이와트"
          ]
        }
      ]
    },
    {
      "cell_type": "markdown",
      "source": [
        "대문자는 소문자로 소문자는 대문자로"
      ],
      "metadata": {
        "id": "MJh4se-FuRTX"
      }
    },
    {
      "cell_type": "code",
      "source": [
        "str1 = input(\"문자열 입력\")\n",
        "str2=\"\"\n",
        "for i in range(len(str1)) :\n",
        "  if str1[i].isupper() :\n",
        "    str2 = str2 + str1[i].lower()\n",
        "  else :\n",
        "    str2 = str2 + str1[i].upper()\n",
        "print(\"변경한 문자열 : \", str2)"
      ],
      "metadata": {
        "colab": {
          "base_uri": "https://localhost:8080/"
        },
        "id": "i7khSgU4uULw",
        "outputId": "fcac7f56-b544-436b-c3a6-50c4124ef073"
      },
      "execution_count": 53,
      "outputs": [
        {
          "output_type": "stream",
          "name": "stdout",
          "text": [
            "문자열 입력Python\n",
            "변경한 문자열 :  pYTHON\n"
          ]
        }
      ]
    }
  ]
}