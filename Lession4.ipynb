{
  "nbformat": 4,
  "nbformat_minor": 0,
  "metadata": {
    "colab": {
      "name": "Lession4.ipynb",
      "provenance": [],
      "authorship_tag": "ABX9TyND/5hjV5CAItJ7j5pTB3ZA",
      "include_colab_link": true
    },
    "kernelspec": {
      "name": "python3",
      "display_name": "Python 3"
    },
    "language_info": {
      "name": "python"
    }
  },
  "cells": [
    {
      "cell_type": "markdown",
      "metadata": {
        "id": "view-in-github",
        "colab_type": "text"
      },
      "source": [
        "<a href=\"https://colab.research.google.com/github/jeongyeon8425/colab/blob/main/Lession4.ipynb\" target=\"_parent\"><img src=\"https://colab.research.google.com/assets/colab-badge.svg\" alt=\"Open In Colab\"/></a>"
      ]
    },
    {
      "cell_type": "markdown",
      "source": [
        "데이터 타입 예제"
      ],
      "metadata": {
        "id": "rf_jhcbFN4yo"
      }
    },
    {
      "cell_type": "code",
      "execution_count": 1,
      "metadata": {
        "colab": {
          "base_uri": "https://localhost:8080/"
        },
        "id": "Di3t7pOLNwyx",
        "outputId": "96a10670-df69-460a-da85-5f360d365856"
      },
      "outputs": [
        {
          "output_type": "stream",
          "name": "stdout",
          "text": [
            "var1의 타입은 <class 'int'>\n",
            "var2의 타입은 <class 'float'>\n",
            "var3의 타입은 <class 'str'>\n",
            "var4의 타입은 <class 'bool'>\n"
          ]
        }
      ],
      "source": [
        "var1 = 100\n",
        "var2 = 3.14\n",
        "var3 = \"안산공고\"\n",
        "var4 = True\n",
        "\n",
        "print(\"var1의 타입은\", type(var1))\n",
        "print(\"var2의 타입은\", type(var2))\n",
        "print(\"var3의 타입은\", type(var3))\n",
        "print(\"var4의 타입은\", type(var4))\n"
      ]
    }
  ]
}